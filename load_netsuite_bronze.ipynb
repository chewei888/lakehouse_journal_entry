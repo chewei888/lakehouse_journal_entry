{
 "cells": [
  {
   "cell_type": "markdown",
   "metadata": {
    "application/vnd.databricks.v1+cell": {
     "cellMetadata": {
      "byteLimit": 2048000,
      "rowLimit": 10000
     },
     "inputWidgets": {},
     "nuid": "58829260-bd79-4d19-a95f-8b98bc63197f",
     "showTitle": false,
     "tableResultSettingsMap": {},
     "title": ""
    },
    "microsoft": {
     "language": "python",
     "language_group": "synapse_pyspark"
    },
    "nteract": {
     "transient": {
      "deleting": false
     }
    }
   },
   "source": [
    "# Fetch Credentials"
   ]
  },
  {
   "cell_type": "code",
   "execution_count": 0,
   "metadata": {
    "application/vnd.databricks.v1+cell": {
     "cellMetadata": {
      "byteLimit": 2048000,
      "rowLimit": 10000
     },
     "inputWidgets": {},
     "nuid": "a269df04-09da-4d94-a122-d7c15df6b277",
     "showTitle": false,
     "tableResultSettingsMap": {},
     "title": ""
    },
    "microsoft": {
     "language": "python",
     "language_group": "synapse_pyspark"
    }
   },
   "outputs": [],
   "source": [
    "# Fetch credentials from Azure Key Vault\n",
    "ACCOUNT_ID      = dbutils.secrets.get(scope=\"azure_key_vault\", key=\"NS-SB-ACCOUNT-ID\")\n",
    "VERSION         = \"v1\"\n",
    "REALM           = dbutils.secrets.get(scope=\"azure_key_vault\", key=\"NS-SB-REALM\")\n",
    "CONSUMER_KEY    = dbutils.secrets.get(scope=\"azure_key_vault\", key=\"NS-SB-CONSUMER-KEY\")\n",
    "CONSUMER_SECRET = dbutils.secrets.get(scope=\"azure_key_vault\", key=\"NS-SB-CONSUMER-SECRET\")\n",
    "TOKEN_KEY       = dbutils.secrets.get(scope=\"azure_key_vault\", key=\"NS-SB-TOKEN-ID\")\n",
    "TOKEN_SECRET    = dbutils.secrets.get(scope=\"azure_key_vault\", key=\"NS-SB-TOKEN-SECRET\")"
   ]
  },
  {
   "cell_type": "markdown",
   "metadata": {
    "application/vnd.databricks.v1+cell": {
     "cellMetadata": {
      "byteLimit": 2048000,
      "rowLimit": 10000
     },
     "inputWidgets": {},
     "nuid": "7d73a531-e90f-4cf2-a2d6-cc09d5e46a15",
     "showTitle": false,
     "tableResultSettingsMap": {},
     "title": ""
    },
    "microsoft": {
     "language": "python",
     "language_group": "synapse_pyspark"
    },
    "nteract": {
     "transient": {
      "deleting": false
     }
    }
   },
   "source": [
    "# Define Logging and Handler"
   ]
  },
  {
   "cell_type": "code",
   "execution_count": 0,
   "metadata": {
    "application/vnd.databricks.v1+cell": {
     "cellMetadata": {
      "byteLimit": 2048000,
      "rowLimit": 10000
     },
     "inputWidgets": {},
     "nuid": "022ad726-b852-4b77-a6ee-4d0690d5c7f4",
     "showTitle": false,
     "tableResultSettingsMap": {},
     "title": ""
    },
    "microsoft": {
     "language": "python",
     "language_group": "synapse_pyspark"
    }
   },
   "outputs": [],
   "source": [
    "from datetime import datetime\n",
    "from zoneinfo import ZoneInfo\n",
    "import logging\n",
    "\n",
    "# Configure the root logger’s level & format\n",
    "logging.basicConfig(\n",
    "    level=logging.INFO,\n",
    "    format= \"%(asctime)s %(levelname)s %(message)s\",\n",
    "    datefmt=\"%Y-%m-%d %H:%M:%S\"\n",
    ")\n",
    "\n",
    "# Grab the root logger once for the whole module\n",
    "root_logger = logging.getLogger()\n",
    "\n",
    "# Define a custom ListHandler. Handler that appends each record to the target list.\n",
    "class ListHandler(logging.Handler):\n",
    "    def __init__(self, target_list):\n",
    "        super().__init__() # under the hood invokes logging.Handler.__init__\n",
    "        self.target = target_list\n",
    "\n",
    "    def emit(self, record): # “record” is the LogRecord created by logging.info()/error()        \n",
    "        utc_dt = datetime.fromtimestamp(\n",
    "            record.created, # a UTC-based POSIX timestamp\n",
    "            tz=ZoneInfo(\"UTC\") # keep in UTC\n",
    "        )\n",
    "\n",
    "        # Append structured log entry\n",
    "        self.target.append({\n",
    "            \"run_ts\": utc_dt,\n",
    "            \"level\": record.levelname,\n",
    "            \"message\": record.getMessage()\n",
    "        })"
   ]
  },
  {
   "cell_type": "markdown",
   "metadata": {
    "application/vnd.databricks.v1+cell": {
     "cellMetadata": {
      "byteLimit": 2048000,
      "rowLimit": 10000
     },
     "inputWidgets": {},
     "nuid": "cc808843-55ac-493b-b5e2-968313b6cd7f",
     "showTitle": false,
     "tableResultSettingsMap": {},
     "title": ""
    },
    "microsoft": {
     "language": "python",
     "language_group": "synapse_pyspark"
    },
    "nteract": {
     "transient": {
      "deleting": false
     }
    }
   },
   "source": [
    "# Define Functions"
   ]
  },
  {
   "cell_type": "markdown",
   "metadata": {
    "application/vnd.databricks.v1+cell": {
     "cellMetadata": {
      "byteLimit": 2048000,
      "rowLimit": 10000
     },
     "inputWidgets": {},
     "nuid": "aeee0b0e-cff8-4ae7-a497-c5dcfb458a79",
     "showTitle": false,
     "tableResultSettingsMap": {},
     "title": ""
    }
   },
   "source": [
    "New version of cluster has no requests_oauthlib installed.\n",
    "We have to install it first."
   ]
  },
  {
   "cell_type": "code",
   "execution_count": 0,
   "metadata": {
    "application/vnd.databricks.v1+cell": {
     "cellMetadata": {
      "byteLimit": 2048000,
      "rowLimit": 10000
     },
     "inputWidgets": {},
     "nuid": "182601fc-b75d-4e0e-9f58-b7ea44e3d954",
     "showTitle": false,
     "tableResultSettingsMap": {},
     "title": ""
    }
   },
   "outputs": [
    {
     "output_type": "stream",
     "name": "stdout",
     "output_type": "stream",
     "text": [
      "Collecting requests_oauthlib\n  Downloading requests_oauthlib-2.0.0-py2.py3-none-any.whl.metadata (11 kB)\nRequirement already satisfied: oauthlib>=3.0.0 in /usr/lib/python3/dist-packages (from requests_oauthlib) (3.2.2)\nRequirement already satisfied: requests>=2.0.0 in /databricks/python3/lib/python3.12/site-packages (from requests_oauthlib) (2.32.3)\nRequirement already satisfied: charset-normalizer<4,>=2 in /databricks/python3/lib/python3.12/site-packages (from requests>=2.0.0->requests_oauthlib) (3.3.2)\nRequirement already satisfied: idna<4,>=2.5 in /databricks/python3/lib/python3.12/site-packages (from requests>=2.0.0->requests_oauthlib) (3.7)\nRequirement already satisfied: urllib3<3,>=1.21.1 in /local_disk0/.ephemeral_nfs/cluster_libraries/python/lib/python3.12/site-packages (from requests>=2.0.0->requests_oauthlib) (1.26.20)\nRequirement already satisfied: certifi>=2017.4.17 in /databricks/python3/lib/python3.12/site-packages (from requests>=2.0.0->requests_oauthlib) (2025.1.31)\nDownloading requests_oauthlib-2.0.0-py2.py3-none-any.whl (24 kB)\nInstalling collected packages: requests_oauthlib\nSuccessfully installed requests_oauthlib-2.0.0\n\u001B[43mNote: you may need to restart the kernel using %restart_python or dbutils.library.restartPython() to use updated packages.\u001B[0m\n"
     ]
    }
   ],
   "source": [
    "%pip install requests_oauthlib"
   ]
  },
  {
   "cell_type": "code",
   "execution_count": 0,
   "metadata": {
    "application/vnd.databricks.v1+cell": {
     "cellMetadata": {
      "byteLimit": 2048000,
      "rowLimit": 10000
     },
     "inputWidgets": {},
     "nuid": "c065eecd-a2e1-482f-9e9d-16c77c467269",
     "showTitle": false,
     "tableResultSettingsMap": {},
     "title": ""
    },
    "microsoft": {
     "language": "python",
     "language_group": "synapse_pyspark"
    }
   },
   "outputs": [],
   "source": [
    "import requests\n",
    "from requests_oauthlib import OAuth1\n",
    "\n",
    "def set_netsuite_connection(\n",
    "    account_id: str,\n",
    "    version: str,\n",
    "    realm: str,\n",
    "    limit: int = 1000,\n",
    "    params: dict = None\n",
    "):\n",
    "    \"\"\"\n",
    "    Build REST endpoint, OAuth1 auth, headers, and default params.\n",
    "    \"\"\"\n",
    "    # Build the base URL for REST calls\n",
    "    base_url = f\"https://{account_id}.suitetalk.api.netsuite.com/services/rest/record/{version}/\"\n",
    "\n",
    "    # Set authentication\n",
    "    oauth = OAuth1(\n",
    "        client_key=CONSUMER_KEY,\n",
    "        client_secret=CONSUMER_SECRET,\n",
    "        resource_owner_key=TOKEN_KEY,\n",
    "        resource_owner_secret=TOKEN_SECRET,\n",
    "        signature_method=\"HMAC-SHA256\",\n",
    "        realm=realm\n",
    "    )\n",
    "\n",
    "    # Standard NetSuite REST headers\n",
    "    headers = {\n",
    "        \"Accept\": \"application/json\",\n",
    "        \"Content-Type\": \"application/json\"\n",
    "    }\n",
    "\n",
    "    # Set parameters. Clone params per call to avoid shared mutable state in threads\n",
    "    call_params = dict(params) if params else {}\n",
    "    call_params.setdefault(\"limit\", limit) # only assigns limit if the key \"limit\" is not already present in the call_params dict.\n",
    "    \n",
    "    return base_url, oauth, headers, call_params\n",
    "\n",
    "\n",
    "def get_all_netsuite_page(endpoint: str, base_url: str, oauth: OAuth1, headers: dict, params: dict) -> list:\n",
    "    \"\"\"\n",
    "    Paginate through NetSuite list endpoint, collecting all item summaries.\n",
    "    \"\"\"\n",
    "    # Set url\n",
    "    url = base_url + endpoint\n",
    "    \n",
    "    # Log the start    \n",
    "    logging.info(\"Starting GET all NetSuite Pages for endpoint '%s' with parameters %s at URL: %s\", endpoint, params, url)\n",
    "    \n",
    "    # Final result\n",
    "    all_page_items = []\n",
    "\n",
    "    while True:\n",
    "        # Get a page\n",
    "        try:\n",
    "            page_resp = requests.get(url=url, auth=oauth, headers=headers, params=params)\n",
    "            logging.info(\"Received HTTP %d for page URL: %s\", page_resp.status_code, url)\n",
    "            page_resp.raise_for_status()\n",
    "        except requests.RequestException as e:\n",
    "            logging.error(\"GET page request to %s failed: %s\", url, e)\n",
    "            raise\n",
    "\n",
    "        # Transform the page response into json\n",
    "        page = page_resp.json()\n",
    "\n",
    "        # Collect all item summaries (just id + links) to the result\n",
    "        all_page_items.extend(page.get(\"items\", []))\n",
    "\n",
    "        # Get next link\n",
    "        next_link = [link for link in page.get(\"links\", []) if link.get(\"rel\") == \"next\"]\n",
    "        \n",
    "        # Find any \"next\" link\n",
    "        if not next_link:\n",
    "            logging.info(\"No next link found. Completed GET all NetSuite Pages.\")\n",
    "            break\n",
    "        \n",
    "        # Move to the next page URL\n",
    "        next_url = next_link[0][\"href\"]\n",
    "        logging.info(\"Found next link, will request: %s\", next_url)\n",
    "        url = next_url\n",
    "\n",
    "        # Clear the parameters on subsequent calls because they inherit from initial parameters\n",
    "        params = {}\n",
    "\n",
    "    return all_page_items\n",
    "\n",
    "\n",
    "def get_netsuite_page_details(all_page_items: list, oauth: OAuth1, headers: dict) -> list:\n",
    "    \"\"\"\n",
    "    Fetch full JSON for each item summary.\n",
    "    \"\"\"\n",
    "    # Log the start\n",
    "    logging.info(\"Starting GET NetSuite page details\")\n",
    "\n",
    "    # Final result\n",
    "    all_item_details = []\n",
    "    \n",
    "    # If empty input, retrun empty result immediately\n",
    "    if not all_page_items:\n",
    "        logging.info(\"No pages found. End.\")\n",
    "        return all_item_details\n",
    "    \n",
    "    # Get item details\n",
    "    for item in all_page_items:\n",
    "        # Fetch item id\n",
    "        item_id = item.get(\"id\", \"(no-id)\")\n",
    "\n",
    "        # Fetch the item url\n",
    "        item_detail_url = item[\"links\"][0][\"href\"]\n",
    "\n",
    "        # Fetch the item details by item url (single page for each item)\n",
    "        try:\n",
    "            # Get response\n",
    "            item_resp = requests.get(url=item_detail_url, auth=oauth, headers=headers) # no limit parameter\n",
    "\n",
    "            # Log info message\n",
    "            logging.info(\"Received HTTP %d for item URL: %s\", item_resp.status_code, item_detail_url)\n",
    "            item_resp.raise_for_status()\n",
    "\n",
    "            # Transform the item response to json\n",
    "            item_detail = item_resp.json()\n",
    "\n",
    "            # Append the details to result\n",
    "            all_item_details.append(item_detail)\n",
    "        except requests.RequestException as e:\n",
    "            logging.error(\"GET item request to %s failed: %s\", item_detail_url, e)\n",
    "            continue # continue to the next item if current item failed\n",
    "\n",
    "    logging.info(\"Completed GET NetSuite page details\")\n",
    "    return all_item_details"
   ]
  },
  {
   "cell_type": "code",
   "execution_count": 0,
   "metadata": {
    "application/vnd.databricks.v1+cell": {
     "cellMetadata": {
      "byteLimit": 2048000,
      "rowLimit": 10000
     },
     "inputWidgets": {},
     "nuid": "b93622b4-cd8b-44fb-8c8f-d451cf4ca619",
     "showTitle": false,
     "tableResultSettingsMap": {},
     "title": ""
    },
    "microsoft": {
     "language": "python",
     "language_group": "synapse_pyspark"
    }
   },
   "outputs": [],
   "source": [
    "import json\n",
    "\n",
    "def write_to_lakehouse(\n",
    "    data: list            =None, \n",
    "    partition_number: int =1, \n",
    "    medal: str            =\"bronze\",\n",
    "    subfolder_path: str   =\"netsuite\", \n",
    "    entity: str           =\"\",\n",
    "    file_format: str      =\"delta\", \n",
    "    write_mode: str       =\"overwrite\", \n",
    "    merge_schema: bool    =\"True\"\n",
    "):  \n",
    "    \"\"\"\n",
    "    Write a list of JSON records into a Delta table in ADLS and register the table in Unity Catalog.\n",
    "    \"\"\"\n",
    "    # Check whether the data is empty\n",
    "    if not data:\n",
    "        logging.info(\"No data for %s. Skip write.\", entity)\n",
    "        return\n",
    "\n",
    "    # # Build a RDD\n",
    "    # json_rdd = sc.parallelize([json.dumps(record) for record in data])\n",
    "\n",
    "    # # Read RDD as json\n",
    "    # df = spark.read.json(json_rdd)\n",
    "\n",
    "    # Build a one-column DataFrame of JSON strings - Shared Cluster can't use RDD, so turn to save json in tmp first\n",
    "    json_list = [(json.dumps(rec),) for rec in data]\n",
    "    schema    = StructType([StructField(\"value\", StringType(), True)])\n",
    "    json_df   = spark.createDataFrame(json_list, schema)\n",
    "\n",
    "    # Write it out as text to a temporary ADLS folder\n",
    "    tmp_dir = (\n",
    "        f\"abfss://{medal}@qydatalake.dfs.core.windows.net/\"\n",
    "        f\"{subfolder_path.strip('/')}/_tmp_json/{entity}/\"\n",
    "    )\n",
    "    json_df.coalesce(1).write.mode(\"overwrite\").text(tmp_dir)\n",
    "\n",
    "    # Read the JSON files back so Spark infers the full nested schema\n",
    "    df = spark.read.json(tmp_dir)\n",
    "\n",
    "    # Define the storage path\n",
    "    path = f\"abfss://{medal}@qydatalake.dfs.core.windows.net/{subfolder_path}/{entity}/\"\n",
    "\n",
    "    # Define the catalog name and table name\n",
    "    subfolder_path = subfolder_path.strip(\"/\") # Remove the leading or trailing \"/\"\n",
    "    parts = subfolder_path.split(\"/\") # Splits the cleaned path into a list of directory names.\n",
    "    catalog_name = parts[0] # take the first part as catalog name\n",
    "    if parts[1:]:\n",
    "        postfix = \"_\".join(parts[1:]) # take the rest of part (if exists) as postfix of table name\n",
    "        table_name = f\"{entity}_{postfix}\"\n",
    "    else:\n",
    "        table_name = entity\n",
    "\n",
    "    # Write into lakehouse\n",
    "    (\n",
    "        df\n",
    "        .coalesce(partition_number) # data is small (< 250 MB), collapse to one file to avoid metadata scan overhead\n",
    "        .write\n",
    "        .format(file_format)\n",
    "        .mode(write_mode)\n",
    "        .option(\"mergeSchema\", merge_schema) # allows new columns to be added when the table already exists\n",
    "        .option(\"path\", path) # writes the Delta table into ADLS\n",
    "        .saveAsTable(f\"{catalog_name}.{medal}.{table_name}\") # registers (or refreshes) the table in Unity Catalog on Databricks\n",
    "    )\n",
    "\n",
    "    # Clean up the temporary JSON folder\n",
    "    dbutils.fs.rm(tmp_dir, recurse=True)\n",
    "\n",
    "    logging.info(\"Wrote %d records of %s to %s\", len(data), entity, path)"
   ]
  },
  {
   "cell_type": "code",
   "execution_count": 0,
   "metadata": {
    "application/vnd.databricks.v1+cell": {
     "cellMetadata": {
      "byteLimit": 2048000,
      "rowLimit": 10000
     },
     "inputWidgets": {},
     "nuid": "e89aff64-17f7-494e-a60b-b73b7ec951eb",
     "showTitle": false,
     "tableResultSettingsMap": {},
     "title": ""
    },
    "microsoft": {
     "language": "python",
     "language_group": "synapse_pyspark"
    }
   },
   "outputs": [],
   "source": [
    "from pyspark.sql.types import TimestampType, StructField, StructType, StringType\n",
    "import pyspark.sql.functions as F\n",
    "\n",
    "def log_progress(\n",
    "    log_records: list     =None,\n",
    "    medal: str            =\"bronze\",\n",
    "    subfolder_path: str   =\"netsuite\", \n",
    "    entity: str           =\"\"\n",
    "):\n",
    "    \"\"\"\n",
    "    Persist captured logs into Delta under ADLS.\n",
    "    \"\"\"\n",
    "    if not log_records:\n",
    "        return\n",
    "\n",
    "    # Define the log path\n",
    "    log_path = f\"abfss://{medal}@qydatalake.dfs.core.windows.net/{subfolder_path}/logs/{entity}_log\"\n",
    "\n",
    "    # Define the log schema\n",
    "    schema = StructType([\n",
    "        StructField(\"run_ts\", TimestampType(), nullable=False),\n",
    "        StructField(\"level\", StringType(), nullable=False),\n",
    "        StructField(\"message\", StringType(), nullable=False)\n",
    "    ])\n",
    "\n",
    "    # Create the log dataframe with exact one file output\n",
    "    log_df = spark.createDataFrame(log_records, schema).coalesce(1)\n",
    "\n",
    "    # Write the log\n",
    "    (\n",
    "        log_df\n",
    "        .write\n",
    "        .format(\"delta\")\n",
    "        .mode(\"append\")\n",
    "        .option(\"mergeSchema\", True)\n",
    "        .save(log_path)\n",
    "    )\n",
    "\n",
    "    logging.info(\"Logged %d entries for %s\", len(log_records), entity)"
   ]
  },
  {
   "cell_type": "code",
   "execution_count": 0,
   "metadata": {
    "application/vnd.databricks.v1+cell": {
     "cellMetadata": {
      "byteLimit": 2048000,
      "rowLimit": 10000
     },
     "inputWidgets": {},
     "nuid": "2c457b91-f8e0-49f2-b7e7-2f247e149de3",
     "showTitle": false,
     "tableResultSettingsMap": {},
     "title": ""
    },
    "microsoft": {
     "language": "python",
     "language_group": "synapse_pyspark"
    }
   },
   "outputs": [],
   "source": [
    "def fetch_entity_data(\n",
    "    entity: str, base_url: str, oauth: OAuth1, headers: dict, params: dict\n",
    "):\n",
    "    \"\"\"\n",
    "    Thread-safe wrapper: fetch items & details, capture logs, return data + logs.\n",
    "    \"\"\"\n",
    "    entity_logs = []\n",
    "    list_handler = ListHandler(entity_logs)\n",
    "    list_handler.setLevel(logging.INFO)\n",
    "    root_logger.addHandler(list_handler)\n",
    "\n",
    "    try:\n",
    "        # 1. Fetch all pages (just returns the “item” summaries: id + self‐link)\n",
    "        page_items = get_all_netsuite_page(endpoint=entity, base_url=base_url, oauth=oauth, headers=headers, params=params)\n",
    "        # 2. Fetch full JSON for each “item” in every page (a list of dicts)\n",
    "        page_item_details = get_netsuite_page_details(all_page_items=page_items, oauth=oauth, headers=headers)\n",
    "    finally:\n",
    "        root_logger.removeHandler(list_handler)\n",
    "\n",
    "    return entity, page_item_details, entity_logs"
   ]
  },
  {
   "cell_type": "markdown",
   "metadata": {
    "application/vnd.databricks.v1+cell": {
     "cellMetadata": {
      "byteLimit": 2048000,
      "rowLimit": 10000
     },
     "inputWidgets": {},
     "nuid": "2174fb6f-369b-4aa9-aca3-9c779fbd2081",
     "showTitle": false,
     "tableResultSettingsMap": {},
     "title": ""
    },
    "microsoft": {
     "language": "python",
     "language_group": "synapse_pyspark"
    },
    "nteract": {
     "transient": {
      "deleting": false
     }
    }
   },
   "source": [
    "# 1. Fetch entities from NetSuite by REST API\n",
    "# 2. Write the output to Lakehouse\n",
    "# 3. Log progress"
   ]
  },
  {
   "cell_type": "code",
   "execution_count": 0,
   "metadata": {
    "application/vnd.databricks.v1+cell": {
     "cellMetadata": {
      "byteLimit": 2048000,
      "rowLimit": 10000
     },
     "inputWidgets": {},
     "nuid": "887aaa95-3c1b-46a3-8d46-e4a7332a5b37",
     "showTitle": false,
     "tableResultSettingsMap": {},
     "title": ""
    },
    "microsoft": {
     "language": "python",
     "language_group": "synapse_pyspark"
    }
   },
   "outputs": [
    {
     "output_type": "stream",
     "name": "stderr",
     "output_type": "stream",
     "text": [
      "2025-07-13 20:25:13 INFO Starting GET all NetSuite Pages for endpoint 'account' with parameters {'limit': 1000} at URL: https://[REDACTED].suitetalk.api.netsuite.com/services/rest/record/v1/account\n2025-07-13 20:25:13 INFO Starting GET all NetSuite Pages for endpoint 'subsidiary' with parameters {'limit': 1000} at URL: https://[REDACTED].suitetalk.api.netsuite.com/services/rest/record/v1/subsidiary\n2025-07-13 20:25:13 INFO Starting GET all NetSuite Pages for endpoint 'department' with parameters {'limit': 1000} at URL: https://[REDACTED].suitetalk.api.netsuite.com/services/rest/record/v1/department\n2025-07-13 20:25:13 INFO Received HTTP 200 for page URL: https://[REDACTED].suitetalk.api.netsuite.com/services/rest/record/v1/account\n2025-07-13 20:25:13 INFO No next link found. Completed GET all NetSuite Pages.\n2025-07-13 20:25:13 INFO Starting GET NetSuite page details\n2025-07-13 20:25:13 INFO Received HTTP 200 for page URL: https://[REDACTED].suitetalk.api.netsuite.com/services/rest/record/v1/department\n2025-07-13 20:25:13 INFO No next link found. Completed GET all NetSuite Pages.\n2025-07-13 20:25:13 INFO Starting GET NetSuite page details\n2025-07-13 20:25:13 INFO Received HTTP 200 for page URL: https://[REDACTED].suitetalk.api.netsuite.com/services/rest/record/v1/subsidiary\n2025-07-13 20:25:13 INFO No next link found. Completed GET all NetSuite Pages.\n2025-07-13 20:25:13 INFO Starting GET NetSuite page details\n2025-07-13 20:25:14 INFO Received HTTP 200 for item URL: https://[REDACTED].suitetalk.api.netsuite.com/services/rest/record/v1/department/34\n2025-07-13 20:25:14 INFO Received HTTP 200 for item URL: https://[REDACTED].suitetalk.api.netsuite.com/services/rest/record/v1/account/147\n2025-07-13 20:25:14 INFO Received HTTP 200 for item URL: https://[REDACTED].suitetalk.api.netsuite.com/services/rest/record/v1/subsidiary/1\n2025-07-13 20:25:14 INFO Received HTTP 200 for item URL: https://[REDACTED].suitetalk.api.netsuite.com/services/rest/record/v1/department/6\n2025-07-13 20:25:14 INFO Received HTTP 200 for item URL: https://[REDACTED].suitetalk.api.netsuite.com/services/rest/record/v1/department/36\n2025-07-13 20:25:14 INFO Received HTTP 200 for item URL: https://[REDACTED].suitetalk.api.netsuite.com/services/rest/record/v1/subsidiary/3\n2025-07-13 20:25:14 INFO Received HTTP 200 for item URL: https://[REDACTED].suitetalk.api.netsuite.com/services/rest/record/v1/account/805\n2025-07-13 20:25:14 INFO Received HTTP 200 for item URL: https://[REDACTED].suitetalk.api.netsuite.com/services/rest/record/v1/department/5\n2025-07-13 20:25:14 INFO Received HTTP 200 for item URL: https://[REDACTED].suitetalk.api.netsuite.com/services/rest/record/v1/subsidiary/2\n2025-07-13 20:25:15 INFO Received HTTP 200 for item URL: https://[REDACTED].suitetalk.api.netsuite.com/services/rest/record/v1/account/115\n2025-07-13 20:25:15 INFO Received HTTP 200 for item URL: https://[REDACTED].suitetalk.api.netsuite.com/services/rest/record/v1/department/25\n2025-07-13 20:25:15 INFO Received HTTP 200 for item URL: https://[REDACTED].suitetalk.api.netsuite.com/services/rest/record/v1/subsidiary/5\n2025-07-13 20:25:15 INFO Received HTTP 200 for item URL: https://[REDACTED].suitetalk.api.netsuite.com/services/rest/record/v1/account/114\n2025-07-13 20:25:15 INFO Received HTTP 200 for item URL: https://[REDACTED].suitetalk.api.netsuite.com/services/rest/record/v1/subsidiary/4\n2025-07-13 20:25:15 INFO Received HTTP 200 for item URL: https://[REDACTED].suitetalk.api.netsuite.com/services/rest/record/v1/account/786\n2025-07-13 20:25:15 INFO Received HTTP 200 for item URL: https://[REDACTED].suitetalk.api.netsuite.com/services/rest/record/v1/subsidiary/6\n2025-07-13 20:25:15 INFO Completed GET NetSuite page details\n2025-07-13 20:25:15 INFO Received HTTP 200 for item URL: https://[REDACTED].suitetalk.api.netsuite.com/services/rest/record/v1/department/7\n2025-07-13 20:25:16 INFO Received HTTP 200 for item URL: https://[REDACTED].suitetalk.api.netsuite.com/services/rest/record/v1/account/197\n2025-07-13 20:25:16 INFO Received HTTP 200 for item URL: https://[REDACTED].suitetalk.api.netsuite.com/services/rest/record/v1/department/8\n2025-07-13 20:25:16 INFO Received HTTP 200 for item URL: https://[REDACTED].suitetalk.api.netsuite.com/services/rest/record/v1/department/83\n2025-07-13 20:25:16 INFO Received HTTP 200 for item URL: https://[REDACTED].suitetalk.api.netsuite.com/services/rest/record/v1/department/82\n2025-07-13 20:25:16 INFO Received HTTP 200 for item URL: https://[REDACTED].suitetalk.api.netsuite.com/services/rest/record/v1/account/630\n2025-07-13 20:25:16 INFO Received HTTP 200 for item URL: https://[REDACTED].suitetalk.api.netsuite.com/services/rest/record/v1/department/84\n2025-07-13 20:25:17 INFO Received HTTP 200 for item URL: https://[REDACTED].suitetalk.api.netsuite.com/services/rest/record/v1/department/85\n2025-07-13 20:25:17 INFO Received HTTP 200 for item URL: https://[REDACTED].suitetalk.api.netsuite.com/services/rest/record/v1/account/175\n2025-07-13 20:25:17 INFO Received HTTP 200 for item URL: https://[REDACTED].suitetalk.api.netsuite.com/services/rest/record/v1/department/9\n2025-07-13 20:25:17 INFO Received HTTP 200 for item URL: https://[REDACTED].suitetalk.api.netsuite.com/services/rest/record/v1/account/584\n2025-07-13 20:25:17 INFO Received HTTP 200 for item URL: https://[REDACTED].suitetalk.api.netsuite.com/services/rest/record/v1/department/10\n2025-07-13 20:25:17 INFO Received HTTP 200 for item URL: https://[REDACTED].suitetalk.api.netsuite.com/services/rest/record/v1/department/73\n2025-07-13 20:25:18 INFO Received HTTP 200 for item URL: https://[REDACTED].suitetalk.api.netsuite.com/services/rest/record/v1/account/527\n2025-07-13 20:25:18 INFO Received HTTP 200 for item URL: https://[REDACTED].suitetalk.api.netsuite.com/services/rest/record/v1/account/108\n2025-07-13 20:25:18 INFO Received HTTP 200 for item URL: https://[REDACTED].suitetalk.api.netsuite.com/services/rest/record/v1/department/11\n2025-07-13 20:25:18 INFO Received HTTP 200 for item URL: https://[REDACTED].suitetalk.api.netsuite.com/services/rest/record/v1/department/29\n2025-07-13 20:25:18 INFO Received HTTP 200 for item URL: https://[REDACTED].suitetalk.api.netsuite.com/services/rest/record/v1/account/54\n2025-07-13 20:25:19 INFO Received HTTP 200 for item URL: https://[REDACTED].suitetalk.api.netsuite.com/services/rest/record/v1/department/31\n2025-07-13 20:25:19 INFO Received HTTP 200 for item URL: https://[REDACTED].suitetalk.api.netsuite.com/services/rest/record/v1/department/58\n2025-07-13 20:25:19 INFO Received HTTP 200 for item URL: https://[REDACTED].suitetalk.api.netsuite.com/services/rest/record/v1/account/605\n2025-07-13 20:25:19 INFO Received HTTP 200 for item URL: https://[REDACTED].suitetalk.api.netsuite.com/services/rest/record/v1/department/37\n2025-07-13 20:25:19 INFO Received HTTP 200 for item URL: https://[REDACTED].suitetalk.api.netsuite.com/services/rest/record/v1/department/12\n2025-07-13 20:25:19 INFO Received HTTP 200 for item URL: https://[REDACTED].suitetalk.api.netsuite.com/services/rest/record/v1/account/606\n2025-07-13 20:25:19 INFO Received HTTP 200 for item URL: https://[REDACTED].suitetalk.api.netsuite.com/services/rest/record/v1/account/600\n2025-07-13 20:25:20 INFO Received HTTP 200 for item URL: https://[REDACTED].suitetalk.api.netsuite.com/services/rest/record/v1/department/13\n2025-07-13 20:25:20 INFO Wrote 6 records of subsidiary to abfss://bronze@qydatalake.dfs.core.windows.net/netsuite/subsidiary/\n2025-07-13 20:25:20 INFO Received HTTP 200 for item URL: https://[REDACTED].suitetalk.api.netsuite.com/services/rest/record/v1/department/14\n2025-07-13 20:25:20 INFO Received HTTP 200 for item URL: https://[REDACTED].suitetalk.api.netsuite.com/services/rest/record/v1/department/43\n2025-07-13 20:25:20 INFO Received HTTP 200 for item URL: https://[REDACTED].suitetalk.api.netsuite.com/services/rest/record/v1/department/3\n2025-07-13 20:25:21 INFO Received HTTP 200 for item URL: https://[REDACTED].suitetalk.api.netsuite.com/services/rest/record/v1/account/819\n2025-07-13 20:25:21 INFO Received HTTP 200 for item URL: https://[REDACTED].suitetalk.api.netsuite.com/services/rest/record/v1/department/15\n2025-07-13 20:25:21 INFO Received HTTP 200 for item URL: https://[REDACTED].suitetalk.api.netsuite.com/services/rest/record/v1/department/47\n2025-07-13 20:25:21 INFO Received HTTP 200 for item URL: https://[REDACTED].suitetalk.api.netsuite.com/services/rest/record/v1/department/48\n2025-07-13 20:25:21 INFO Logged 28 entries for subsidiary\n2025-07-13 20:25:21 INFO Received HTTP 200 for item URL: https://[REDACTED].suitetalk.api.netsuite.com/services/rest/record/v1/account/825\n2025-07-13 20:25:22 INFO Received HTTP 200 for item URL: https://[REDACTED].suitetalk.api.netsuite.com/services/rest/record/v1/department/35\n2025-07-13 20:25:22 INFO Received HTTP 200 for item URL: https://[REDACTED].suitetalk.api.netsuite.com/services/rest/record/v1/account/608\n2025-07-13 20:25:22 INFO Received HTTP 200 for item URL: https://[REDACTED].suitetalk.api.netsuite.com/services/rest/record/v1/department/57\n2025-07-13 20:25:22 INFO Received HTTP 200 for item URL: https://[REDACTED].suitetalk.api.netsuite.com/services/rest/record/v1/account/725\n2025-07-13 20:25:22 INFO Received HTTP 200 for item URL: https://[REDACTED].suitetalk.api.netsuite.com/services/rest/record/v1/department/44\n2025-07-13 20:25:22 INFO Received HTTP 200 for item URL: https://[REDACTED].suitetalk.api.netsuite.com/services/rest/record/v1/department/56\n2025-07-13 20:25:23 INFO Received HTTP 200 for item URL: https://[REDACTED].suitetalk.api.netsuite.com/services/rest/record/v1/department/30\n2025-07-13 20:25:23 INFO Received HTTP 200 for item URL: https://[REDACTED].suitetalk.api.netsuite.com/services/rest/record/v1/account/727\n2025-07-13 20:25:23 INFO Received HTTP 200 for item URL: https://[REDACTED].suitetalk.api.netsuite.com/services/rest/record/v1/department/32\n2025-07-13 20:25:23 INFO Received HTTP 200 for item URL: https://[REDACTED].suitetalk.api.netsuite.com/services/rest/record/v1/department/49\n2025-07-13 20:25:23 INFO Received HTTP 200 for item URL: https://[REDACTED].suitetalk.api.netsuite.com/services/rest/record/v1/account/783\n2025-07-13 20:25:23 INFO Received HTTP 200 for item URL: https://[REDACTED].suitetalk.api.netsuite.com/services/rest/record/v1/account/532\n2025-07-13 20:25:23 INFO Received HTTP 200 for item URL: https://[REDACTED].suitetalk.api.netsuite.com/services/rest/record/v1/department/65\n2025-07-13 20:25:24 INFO Received HTTP 200 for item URL: https://[REDACTED].suitetalk.api.netsuite.com/services/rest/record/v1/department/28\n2025-07-13 20:25:24 INFO Received HTTP 200 for item URL: https://[REDACTED].suitetalk.api.netsuite.com/services/rest/record/v1/department/16\n2025-07-13 20:25:24 INFO Received HTTP 200 for item URL: https://[REDACTED].suitetalk.api.netsuite.com/services/rest/record/v1/account/533\n2025-07-13 20:25:24 INFO Received HTTP 200 for item URL: https://[REDACTED].suitetalk.api.netsuite.com/services/rest/record/v1/department/38\n2025-07-13 20:25:24 INFO Received HTTP 200 for item URL: https://[REDACTED].suitetalk.api.netsuite.com/services/rest/record/v1/department/17\n2025-07-13 20:25:25 INFO Received HTTP 200 for item URL: https://[REDACTED].suitetalk.api.netsuite.com/services/rest/record/v1/account/534\n2025-07-13 20:25:25 INFO Received HTTP 200 for item URL: https://[REDACTED].suitetalk.api.netsuite.com/services/rest/record/v1/department/20\n2025-07-13 20:25:25 INFO Received HTTP 200 for item URL: https://[REDACTED].suitetalk.api.netsuite.com/services/rest/record/v1/department/23\n2025-07-13 20:25:25 INFO Received HTTP 200 for item URL: https://[REDACTED].suitetalk.api.netsuite.com/services/rest/record/v1/account/193\n2025-07-13 20:25:25 INFO Received HTTP 200 for item URL: https://[REDACTED].suitetalk.api.netsuite.com/services/rest/record/v1/department/24\n2025-07-13 20:25:25 INFO Received HTTP 200 for item URL: https://[REDACTED].suitetalk.api.netsuite.com/services/rest/record/v1/account/268\n2025-07-13 20:25:25 INFO Received HTTP 200 for item URL: https://[REDACTED].suitetalk.api.netsuite.com/services/rest/record/v1/department/21\n2025-07-13 20:25:26 INFO Received HTTP 200 for item URL: https://[REDACTED].suitetalk.api.netsuite.com/services/rest/record/v1/account/609\n2025-07-13 20:25:26 INFO Received HTTP 200 for item URL: https://[REDACTED].suitetalk.api.netsuite.com/services/rest/record/v1/department/22\n2025-07-13 20:25:26 INFO Received HTTP 200 for item URL: https://[REDACTED].suitetalk.api.netsuite.com/services/rest/record/v1/account/179\n2025-07-13 20:25:26 INFO Received HTTP 200 for item URL: https://[REDACTED].suitetalk.api.netsuite.com/services/rest/record/v1/department/26\n2025-07-13 20:25:26 INFO Received HTTP 200 for item URL: https://[REDACTED].suitetalk.api.netsuite.com/services/rest/record/v1/department/27\n2025-07-13 20:25:26 INFO Received HTTP 200 for item URL: https://[REDACTED].suitetalk.api.netsuite.com/services/rest/record/v1/account/486\n2025-07-13 20:25:26 INFO Received HTTP 200 for item URL: https://[REDACTED].suitetalk.api.netsuite.com/services/rest/record/v1/department/39\n2025-07-13 20:25:27 INFO Received HTTP 200 for item URL: https://[REDACTED].suitetalk.api.netsuite.com/services/rest/record/v1/department/40\n2025-07-13 20:25:27 INFO Received HTTP 200 for item URL: https://[REDACTED].suitetalk.api.netsuite.com/services/rest/record/v1/account/183\n2025-07-13 20:25:27 INFO Received HTTP 200 for item URL: https://[REDACTED].suitetalk.api.netsuite.com/services/rest/record/v1/department/42\n2025-07-13 20:25:27 INFO Received HTTP 200 for item URL: https://[REDACTED].suitetalk.api.netsuite.com/services/rest/record/v1/department/45\n2025-07-13 20:25:27 INFO Received HTTP 200 for item URL: https://[REDACTED].suitetalk.api.netsuite.com/services/rest/record/v1/account/612\n2025-07-13 20:25:27 INFO Received HTTP 200 for item URL: https://[REDACTED].suitetalk.api.netsuite.com/services/rest/record/v1/department/46\n2025-07-13 20:25:27 INFO Received HTTP 200 for item URL: https://[REDACTED].suitetalk.api.netsuite.com/services/rest/record/v1/account/181\n2025-07-13 20:25:27 INFO Received HTTP 200 for item URL: https://[REDACTED].suitetalk.api.netsuite.com/services/rest/record/v1/department/50\n2025-07-13 20:25:27 INFO Received HTTP 200 for item URL: https://[REDACTED].suitetalk.api.netsuite.com/services/rest/record/v1/department/51\n2025-07-13 20:25:28 INFO Received HTTP 200 for item URL: https://[REDACTED].suitetalk.api.netsuite.com/services/rest/record/v1/account/269\n2025-07-13 20:25:28 INFO Received HTTP 200 for item URL: https://[REDACTED].suitetalk.api.netsuite.com/services/rest/record/v1/account/641\n2025-07-13 20:25:28 INFO Received HTTP 200 for item URL: https://[REDACTED].suitetalk.api.netsuite.com/services/rest/record/v1/department/52\n2025-07-13 20:25:28 INFO Received HTTP 200 for item URL: https://[REDACTED].suitetalk.api.netsuite.com/services/rest/record/v1/account/642\n2025-07-13 20:25:28 INFO Received HTTP 200 for item URL: https://[REDACTED].suitetalk.api.netsuite.com/services/rest/record/v1/department/53\n2025-07-13 20:25:28 INFO Received HTTP 200 for item URL: https://[REDACTED].suitetalk.api.netsuite.com/services/rest/record/v1/department/54\n2025-07-13 20:25:28 INFO Received HTTP 200 for item URL: https://[REDACTED].suitetalk.api.netsuite.com/services/rest/record/v1/account/182\n2025-07-13 20:25:28 INFO Received HTTP 200 for item URL: https://[REDACTED].suitetalk.api.netsuite.com/services/rest/record/v1/department/55\n2025-07-13 20:25:29 INFO Received HTTP 200 for item URL: https://[REDACTED].suitetalk.api.netsuite.com/services/rest/record/v1/department/59\n2025-07-13 20:25:29 INFO Received HTTP 200 for item URL: https://[REDACTED].suitetalk.api.netsuite.com/services/rest/record/v1/account/814\n2025-07-13 20:25:29 INFO Received HTTP 200 for item URL: https://[REDACTED].suitetalk.api.netsuite.com/services/rest/record/v1/department/60\n2025-07-13 20:25:29 INFO Received HTTP 200 for item URL: https://[REDACTED].suitetalk.api.netsuite.com/services/rest/record/v1/account/541\n2025-07-13 20:25:29 INFO Received HTTP 200 for item URL: https://[REDACTED].suitetalk.api.netsuite.com/services/rest/record/v1/department/61\n2025-07-13 20:25:29 INFO Received HTTP 200 for item URL: https://[REDACTED].suitetalk.api.netsuite.com/services/rest/record/v1/department/64\n2025-07-13 20:25:29 INFO Received HTTP 200 for item URL: https://[REDACTED].suitetalk.api.netsuite.com/services/rest/record/v1/account/758\n2025-07-13 20:25:29 INFO Received HTTP 200 for item URL: https://[REDACTED].suitetalk.api.netsuite.com/services/rest/record/v1/department/66\n2025-07-13 20:25:30 INFO Received HTTP 200 for item URL: https://[REDACTED].suitetalk.api.netsuite.com/services/rest/record/v1/department/67\n2025-07-13 20:25:30 INFO Received HTTP 200 for item URL: https://[REDACTED].suitetalk.api.netsuite.com/services/rest/record/v1/account/610\n2025-07-13 20:25:30 INFO Received HTTP 200 for item URL: https://[REDACTED].suitetalk.api.netsuite.com/services/rest/record/v1/department/68\n2025-07-13 20:25:30 INFO Received HTTP 200 for item URL: https://[REDACTED].suitetalk.api.netsuite.com/services/rest/record/v1/department/69\n2025-07-13 20:25:30 INFO Received HTTP 200 for item URL: https://[REDACTED].suitetalk.api.netsuite.com/services/rest/record/v1/account/631\n2025-07-13 20:25:30 INFO Received HTTP 200 for item URL: https://[REDACTED].suitetalk.api.netsuite.com/services/rest/record/v1/department/70\n2025-07-13 20:25:30 INFO Received HTTP 200 for item URL: https://[REDACTED].suitetalk.api.netsuite.com/services/rest/record/v1/account/646\n2025-07-13 20:25:31 INFO Received HTTP 200 for item URL: https://[REDACTED].suitetalk.api.netsuite.com/services/rest/record/v1/department/71\n2025-07-13 20:25:31 INFO Received HTTP 200 for item URL: https://[REDACTED].suitetalk.api.netsuite.com/services/rest/record/v1/account/695\n2025-07-13 20:25:31 INFO Received HTTP 200 for item URL: https://[REDACTED].suitetalk.api.netsuite.com/services/rest/record/v1/department/72\n2025-07-13 20:25:31 INFO Received HTTP 200 for item URL: https://[REDACTED].suitetalk.api.netsuite.com/services/rest/record/v1/department/74\n2025-07-13 20:25:31 INFO Received HTTP 200 for item URL: https://[REDACTED].suitetalk.api.netsuite.com/services/rest/record/v1/account/707\n2025-07-13 20:25:31 INFO Received HTTP 200 for item URL: https://[REDACTED].suitetalk.api.netsuite.com/services/rest/record/v1/department/75\n2025-07-13 20:25:31 INFO Received HTTP 200 for item URL: https://[REDACTED].suitetalk.api.netsuite.com/services/rest/record/v1/department/76\n2025-07-13 20:25:31 INFO Received HTTP 200 for item URL: https://[REDACTED].suitetalk.api.netsuite.com/services/rest/record/v1/account/643\n2025-07-13 20:25:32 INFO Received HTTP 200 for item URL: https://[REDACTED].suitetalk.api.netsuite.com/services/rest/record/v1/department/77\n2025-07-13 20:25:32 INFO Received HTTP 200 for item URL: https://[REDACTED].suitetalk.api.netsuite.com/services/rest/record/v1/account/485\n2025-07-13 20:25:32 INFO Received HTTP 200 for item URL: https://[REDACTED].suitetalk.api.netsuite.com/services/rest/record/v1/department/78\n2025-07-13 20:25:32 INFO Received HTTP 200 for item URL: https://[REDACTED].suitetalk.api.netsuite.com/services/rest/record/v1/department/79\n2025-07-13 20:25:32 INFO Received HTTP 200 for item URL: https://[REDACTED].suitetalk.api.netsuite.com/services/rest/record/v1/account/482\n2025-07-13 20:25:32 INFO Received HTTP 200 for item URL: https://[REDACTED].suitetalk.api.netsuite.com/services/rest/record/v1/department/80\n2025-07-13 20:25:32 INFO Received HTTP 200 for item URL: https://[REDACTED].suitetalk.api.netsuite.com/services/rest/record/v1/account/487\n2025-07-13 20:25:32 INFO Received HTTP 200 for item URL: https://[REDACTED].suitetalk.api.netsuite.com/services/rest/record/v1/department/81\n2025-07-13 20:25:33 INFO Received HTTP 200 for item URL: https://[REDACTED].suitetalk.api.netsuite.com/services/rest/record/v1/account/484\n2025-07-13 20:25:33 INFO Received HTTP 200 for item URL: https://[REDACTED].suitetalk.api.netsuite.com/services/rest/record/v1/account/656\n2025-07-13 20:25:33 INFO Received HTTP 200 for item URL: https://[REDACTED].suitetalk.api.netsuite.com/services/rest/record/v1/department/33\n2025-07-13 20:25:33 INFO Received HTTP 200 for item URL: https://[REDACTED].suitetalk.api.netsuite.com/services/rest/record/v1/account/644\n2025-07-13 20:25:33 INFO Received HTTP 200 for item URL: https://[REDACTED].suitetalk.api.netsuite.com/services/rest/record/v1/department/1\n2025-07-13 20:25:33 INFO Received HTTP 200 for item URL: https://[REDACTED].suitetalk.api.netsuite.com/services/rest/record/v1/account/483\n2025-07-13 20:25:34 INFO Received HTTP 200 for item URL: https://[REDACTED].suitetalk.api.netsuite.com/services/rest/record/v1/department/62\n2025-07-13 20:25:34 INFO Received HTTP 200 for item URL: https://[REDACTED].suitetalk.api.netsuite.com/services/rest/record/v1/account/726\n2025-07-13 20:25:34 INFO Received HTTP 200 for item URL: https://[REDACTED].suitetalk.api.netsuite.com/services/rest/record/v1/account/535\n2025-07-13 20:25:34 INFO Received HTTP 200 for item URL: https://[REDACTED].suitetalk.api.netsuite.com/services/rest/record/v1/department/4\n2025-07-13 20:25:34 INFO Received HTTP 200 for item URL: https://[REDACTED].suitetalk.api.netsuite.com/services/rest/record/v1/account/176\n2025-07-13 20:25:34 INFO Received HTTP 200 for item URL: https://[REDACTED].suitetalk.api.netsuite.com/services/rest/record/v1/department/2\n2025-07-13 20:25:35 INFO Received HTTP 200 for item URL: https://[REDACTED].suitetalk.api.netsuite.com/services/rest/record/v1/department/18\n2025-07-13 20:25:35 INFO Received HTTP 200 for item URL: https://[REDACTED].suitetalk.api.netsuite.com/services/rest/record/v1/account/198\n2025-07-13 20:25:35 INFO Received HTTP 200 for item URL: https://[REDACTED].suitetalk.api.netsuite.com/services/rest/record/v1/department/19\n2025-07-13 20:25:35 INFO Completed GET NetSuite page details\n2025-07-13 20:25:35 INFO Received HTTP 200 for item URL: https://[REDACTED].suitetalk.api.netsuite.com/services/rest/record/v1/account/310\n2025-07-13 20:25:35 INFO Received HTTP 200 for item URL: https://[REDACTED].suitetalk.api.netsuite.com/services/rest/record/v1/account/194\n2025-07-13 20:25:35 INFO Received HTTP 200 for item URL: https://[REDACTED].suitetalk.api.netsuite.com/services/rest/record/v1/account/178\n2025-07-13 20:25:36 INFO Received HTTP 200 for item URL: https://[REDACTED].suitetalk.api.netsuite.com/services/rest/record/v1/account/515\n2025-07-13 20:25:36 INFO Received HTTP 200 for item URL: https://[REDACTED].suitetalk.api.netsuite.com/services/rest/record/v1/account/598\n2025-07-13 20:25:36 INFO Received HTTP 200 for item URL: https://[REDACTED].suitetalk.api.netsuite.com/services/rest/record/v1/account/189\n2025-07-13 20:25:37 INFO Received HTTP 200 for item URL: https://[REDACTED].suitetalk.api.netsuite.com/services/rest/record/v1/account/293\n2025-07-13 20:25:37 INFO Received HTTP 200 for item URL: https://[REDACTED].suitetalk.api.netsuite.com/services/rest/record/v1/account/278\n2025-07-13 20:25:37 INFO Received HTTP 200 for item URL: https://[REDACTED].suitetalk.api.netsuite.com/services/rest/record/v1/account/279\n2025-07-13 20:25:38 INFO Received HTTP 200 for item URL: https://[REDACTED].suitetalk.api.netsuite.com/services/rest/record/v1/account/251\n2025-07-13 20:25:38 INFO Wrote 83 records of department to abfss://bronze@qydatalake.dfs.core.windows.net/netsuite/department/\n2025-07-13 20:25:38 INFO Received HTTP 200 for item URL: https://[REDACTED].suitetalk.api.netsuite.com/services/rest/record/v1/account/724\n2025-07-13 20:25:38 INFO Received HTTP 200 for item URL: https://[REDACTED].suitetalk.api.netsuite.com/services/rest/record/v1/account/728\n2025-07-13 20:25:38 INFO Logged 159 entries for department\n2025-07-13 20:25:38 INFO Received HTTP 200 for item URL: https://[REDACTED].suitetalk.api.netsuite.com/services/rest/record/v1/account/528\n2025-07-13 20:25:39 INFO Received HTTP 200 for item URL: https://[REDACTED].suitetalk.api.netsuite.com/services/rest/record/v1/account/282\n2025-07-13 20:25:39 INFO Received HTTP 200 for item URL: https://[REDACTED].suitetalk.api.netsuite.com/services/rest/record/v1/account/738\n2025-07-13 20:25:39 INFO Received HTTP 200 for item URL: https://[REDACTED].suitetalk.api.netsuite.com/services/rest/record/v1/account/740\n2025-07-13 20:25:40 INFO Received HTTP 200 for item URL: https://[REDACTED].suitetalk.api.netsuite.com/services/rest/record/v1/account/821\n2025-07-13 20:25:40 INFO Received HTTP 200 for item URL: https://[REDACTED].suitetalk.api.netsuite.com/services/rest/record/v1/account/822\n2025-07-13 20:25:40 INFO Received HTTP 200 for item URL: https://[REDACTED].suitetalk.api.netsuite.com/services/rest/record/v1/account/823\n2025-07-13 20:25:41 INFO Received HTTP 200 for item URL: https://[REDACTED].suitetalk.api.netsuite.com/services/rest/record/v1/account/824\n2025-07-13 20:25:41 INFO Received HTTP 200 for item URL: https://[REDACTED].suitetalk.api.netsuite.com/services/rest/record/v1/account/537\n2025-07-13 20:25:42 INFO Received HTTP 200 for item URL: https://[REDACTED].suitetalk.api.netsuite.com/services/rest/record/v1/account/281\n2025-07-13 20:25:42 INFO Received HTTP 200 for item URL: https://[REDACTED].suitetalk.api.netsuite.com/services/rest/record/v1/account/120\n2025-07-13 20:25:42 INFO Received HTTP 200 for item URL: https://[REDACTED].suitetalk.api.netsuite.com/services/rest/record/v1/account/488\n2025-07-13 20:25:43 INFO Received HTTP 200 for item URL: https://[REDACTED].suitetalk.api.netsuite.com/services/rest/record/v1/account/461\n2025-07-13 20:25:43 INFO Received HTTP 200 for item URL: https://[REDACTED].suitetalk.api.netsuite.com/services/rest/record/v1/account/500\n2025-07-13 20:25:43 INFO Received HTTP 200 for item URL: https://[REDACTED].suitetalk.api.netsuite.com/services/rest/record/v1/account/723\n2025-07-13 20:25:43 INFO Received HTTP 200 for item URL: https://[REDACTED].suitetalk.api.netsuite.com/services/rest/record/v1/account/250\n2025-07-13 20:25:44 INFO Received HTTP 200 for item URL: https://[REDACTED].suitetalk.api.netsuite.com/services/rest/record/v1/account/188\n2025-07-13 20:25:44 INFO Received HTTP 200 for item URL: https://[REDACTED].suitetalk.api.netsuite.com/services/rest/record/v1/account/634\n2025-07-13 20:25:44 INFO Received HTTP 200 for item URL: https://[REDACTED].suitetalk.api.netsuite.com/services/rest/record/v1/account/53\n2025-07-13 20:25:45 INFO Received HTTP 200 for item URL: https://[REDACTED].suitetalk.api.netsuite.com/services/rest/record/v1/account/257\n2025-07-13 20:25:45 INFO Received HTTP 200 for item URL: https://[REDACTED].suitetalk.api.netsuite.com/services/rest/record/v1/account/621\n2025-07-13 20:25:45 INFO Received HTTP 200 for item URL: https://[REDACTED].suitetalk.api.netsuite.com/services/rest/record/v1/account/499\n2025-07-13 20:25:46 INFO Received HTTP 200 for item URL: https://[REDACTED].suitetalk.api.netsuite.com/services/rest/record/v1/account/799\n2025-07-13 20:25:46 INFO Received HTTP 200 for item URL: https://[REDACTED].suitetalk.api.netsuite.com/services/rest/record/v1/account/259\n2025-07-13 20:25:46 INFO Received HTTP 200 for item URL: https://[REDACTED].suitetalk.api.netsuite.com/services/rest/record/v1/account/546\n2025-07-13 20:25:46 INFO Received HTTP 200 for item URL: https://[REDACTED].suitetalk.api.netsuite.com/services/rest/record/v1/account/291\n2025-07-13 20:25:47 INFO Received HTTP 200 for item URL: https://[REDACTED].suitetalk.api.netsuite.com/services/rest/record/v1/account/284\n2025-07-13 20:25:47 INFO Received HTTP 200 for item URL: https://[REDACTED].suitetalk.api.netsuite.com/services/rest/record/v1/account/459\n2025-07-13 20:25:47 INFO Received HTTP 200 for item URL: https://[REDACTED].suitetalk.api.netsuite.com/services/rest/record/v1/account/255\n2025-07-13 20:25:48 INFO Received HTTP 200 for item URL: https://[REDACTED].suitetalk.api.netsuite.com/services/rest/record/v1/account/662\n2025-07-13 20:25:48 INFO Received HTTP 200 for item URL: https://[REDACTED].suitetalk.api.netsuite.com/services/rest/record/v1/account/266\n2025-07-13 20:25:48 INFO Received HTTP 200 for item URL: https://[REDACTED].suitetalk.api.netsuite.com/services/rest/record/v1/account/519\n2025-07-13 20:25:49 INFO Received HTTP 200 for item URL: https://[REDACTED].suitetalk.api.netsuite.com/services/rest/record/v1/account/285\n2025-07-13 20:25:49 INFO Received HTTP 200 for item URL: https://[REDACTED].suitetalk.api.netsuite.com/services/rest/record/v1/account/288\n2025-07-13 20:25:49 INFO Received HTTP 200 for item URL: https://[REDACTED].suitetalk.api.netsuite.com/services/rest/record/v1/account/253\n2025-07-13 20:25:50 INFO Received HTTP 200 for item URL: https://[REDACTED].suitetalk.api.netsuite.com/services/rest/record/v1/account/660\n2025-07-13 20:25:50 INFO Received HTTP 200 for item URL: https://[REDACTED].suitetalk.api.netsuite.com/services/rest/record/v1/account/263\n2025-07-13 20:25:50 INFO Received HTTP 200 for item URL: https://[REDACTED].suitetalk.api.netsuite.com/services/rest/record/v1/account/498\n2025-07-13 20:25:50 INFO Received HTTP 200 for item URL: https://[REDACTED].suitetalk.api.netsuite.com/services/rest/record/v1/account/248\n2025-07-13 20:25:51 INFO Received HTTP 200 for item URL: https://[REDACTED].suitetalk.api.netsuite.com/services/rest/record/v1/account/769\n2025-07-13 20:25:51 INFO Received HTTP 200 for item URL: https://[REDACTED].suitetalk.api.netsuite.com/services/rest/record/v1/account/270\n2025-07-13 20:25:51 INFO Received HTTP 200 for item URL: https://[REDACTED].suitetalk.api.netsuite.com/services/rest/record/v1/account/613\n2025-07-13 20:25:52 INFO Received HTTP 200 for item URL: https://[REDACTED].suitetalk.api.netsuite.com/services/rest/record/v1/account/614\n2025-07-13 20:25:52 INFO Received HTTP 200 for item URL: https://[REDACTED].suitetalk.api.netsuite.com/services/rest/record/v1/account/522\n2025-07-13 20:25:53 INFO Received HTTP 200 for item URL: https://[REDACTED].suitetalk.api.netsuite.com/services/rest/record/v1/account/683\n2025-07-13 20:25:53 INFO Received HTTP 200 for item URL: https://[REDACTED].suitetalk.api.netsuite.com/services/rest/record/v1/account/666\n2025-07-13 20:25:53 INFO Received HTTP 200 for item URL: https://[REDACTED].suitetalk.api.netsuite.com/services/rest/record/v1/account/571\n2025-07-13 20:25:53 INFO Received HTTP 200 for item URL: https://[REDACTED].suitetalk.api.netsuite.com/services/rest/record/v1/account/286\n2025-07-13 20:25:54 INFO Received HTTP 200 for item URL: https://[REDACTED].suitetalk.api.netsuite.com/services/rest/record/v1/account/460\n2025-07-13 20:25:54 INFO Received HTTP 200 for item URL: https://[REDACTED].suitetalk.api.netsuite.com/services/rest/record/v1/account/806\n2025-07-13 20:25:54 INFO Received HTTP 200 for item URL: https://[REDACTED].suitetalk.api.netsuite.com/services/rest/record/v1/account/550\n2025-07-13 20:25:55 INFO Received HTTP 200 for item URL: https://[REDACTED].suitetalk.api.netsuite.com/services/rest/record/v1/account/464\n2025-07-13 20:25:55 INFO Received HTTP 200 for item URL: https://[REDACTED].suitetalk.api.netsuite.com/services/rest/record/v1/account/551\n2025-07-13 20:25:56 INFO Received HTTP 200 for item URL: https://[REDACTED].suitetalk.api.netsuite.com/services/rest/record/v1/account/303\n2025-07-13 20:25:57 INFO Received HTTP 200 for item URL: https://[REDACTED].suitetalk.api.netsuite.com/services/rest/record/v1/account/477\n2025-07-13 20:25:57 INFO Received HTTP 200 for item URL: https://[REDACTED].suitetalk.api.netsuite.com/services/rest/record/v1/account/479\n2025-07-13 20:25:58 INFO Received HTTP 200 for item URL: https://[REDACTED].suitetalk.api.netsuite.com/services/rest/record/v1/account/655\n2025-07-13 20:25:58 INFO Received HTTP 200 for item URL: https://[REDACTED].suitetalk.api.netsuite.com/services/rest/record/v1/account/299\n2025-07-13 20:25:58 INFO Received HTTP 200 for item URL: https://[REDACTED].suitetalk.api.netsuite.com/services/rest/record/v1/account/615\n2025-07-13 20:25:59 INFO Received HTTP 200 for item URL: https://[REDACTED].suitetalk.api.netsuite.com/services/rest/record/v1/account/648\n2025-07-13 20:25:59 INFO Received HTTP 200 for item URL: https://[REDACTED].suitetalk.api.netsuite.com/services/rest/record/v1/account/735\n2025-07-13 20:25:59 INFO Received HTTP 200 for item URL: https://[REDACTED].suitetalk.api.netsuite.com/services/rest/record/v1/account/739\n2025-07-13 20:26:00 INFO Received HTTP 200 for item URL: https://[REDACTED].suitetalk.api.netsuite.com/services/rest/record/v1/account/301\n2025-07-13 20:26:00 INFO Received HTTP 200 for item URL: https://[REDACTED].suitetalk.api.netsuite.com/services/rest/record/v1/account/298\n2025-07-13 20:26:00 INFO Received HTTP 200 for item URL: https://[REDACTED].suitetalk.api.netsuite.com/services/rest/record/v1/account/773\n2025-07-13 20:26:01 INFO Received HTTP 200 for item URL: https://[REDACTED].suitetalk.api.netsuite.com/services/rest/record/v1/account/314\n2025-07-13 20:26:01 INFO Received HTTP 200 for item URL: https://[REDACTED].suitetalk.api.netsuite.com/services/rest/record/v1/account/271\n2025-07-13 20:26:01 INFO Received HTTP 200 for item URL: https://[REDACTED].suitetalk.api.netsuite.com/services/rest/record/v1/account/633\n2025-07-13 20:26:01 INFO Received HTTP 200 for item URL: https://[REDACTED].suitetalk.api.netsuite.com/services/rest/record/v1/account/616\n2025-07-13 20:26:02 INFO Received HTTP 200 for item URL: https://[REDACTED].suitetalk.api.netsuite.com/services/rest/record/v1/account/277\n2025-07-13 20:26:02 INFO Received HTTP 200 for item URL: https://[REDACTED].suitetalk.api.netsuite.com/services/rest/record/v1/account/273\n2025-07-13 20:26:02 INFO Received HTTP 200 for item URL: https://[REDACTED].suitetalk.api.netsuite.com/services/rest/record/v1/account/274\n2025-07-13 20:26:02 INFO Received HTTP 200 for item URL: https://[REDACTED].suitetalk.api.netsuite.com/services/rest/record/v1/account/275\n2025-07-13 20:26:03 INFO Received HTTP 200 for item URL: https://[REDACTED].suitetalk.api.netsuite.com/services/rest/record/v1/account/276\n2025-07-13 20:26:03 INFO Received HTTP 200 for item URL: https://[REDACTED].suitetalk.api.netsuite.com/services/rest/record/v1/account/272\n2025-07-13 20:26:04 INFO Received HTTP 200 for item URL: https://[REDACTED].suitetalk.api.netsuite.com/services/rest/record/v1/account/618\n2025-07-13 20:26:04 INFO Received HTTP 200 for item URL: https://[REDACTED].suitetalk.api.netsuite.com/services/rest/record/v1/account/619\n2025-07-13 20:26:04 INFO Received HTTP 200 for item URL: https://[REDACTED].suitetalk.api.netsuite.com/services/rest/record/v1/account/249\n2025-07-13 20:26:05 INFO Received HTTP 200 for item URL: https://[REDACTED].suitetalk.api.netsuite.com/services/rest/record/v1/account/653\n2025-07-13 20:26:05 INFO Received HTTP 200 for item URL: https://[REDACTED].suitetalk.api.netsuite.com/services/rest/record/v1/account/256\n2025-07-13 20:26:05 INFO Received HTTP 200 for item URL: https://[REDACTED].suitetalk.api.netsuite.com/services/rest/record/v1/account/258\n2025-07-13 20:26:05 INFO Received HTTP 200 for item URL: https://[REDACTED].suitetalk.api.netsuite.com/services/rest/record/v1/account/262\n2025-07-13 20:26:06 INFO Received HTTP 200 for item URL: https://[REDACTED].suitetalk.api.netsuite.com/services/rest/record/v1/account/264\n2025-07-13 20:26:06 INFO Received HTTP 200 for item URL: https://[REDACTED].suitetalk.api.netsuite.com/services/rest/record/v1/account/252\n2025-07-13 20:26:06 INFO Received HTTP 200 for item URL: https://[REDACTED].suitetalk.api.netsuite.com/services/rest/record/v1/account/596\n2025-07-13 20:26:07 INFO Received HTTP 200 for item URL: https://[REDACTED].suitetalk.api.netsuite.com/services/rest/record/v1/account/462\n2025-07-13 20:26:07 INFO Received HTTP 200 for item URL: https://[REDACTED].suitetalk.api.netsuite.com/services/rest/record/v1/account/267\n2025-07-13 20:26:07 INFO Received HTTP 200 for item URL: https://[REDACTED].suitetalk.api.netsuite.com/services/rest/record/v1/account/620\n2025-07-13 20:26:07 INFO Received HTTP 200 for item URL: https://[REDACTED].suitetalk.api.netsuite.com/services/rest/record/v1/account/635\n2025-07-13 20:26:08 INFO Received HTTP 200 for item URL: https://[REDACTED].suitetalk.api.netsuite.com/services/rest/record/v1/account/295\n2025-07-13 20:26:08 INFO Received HTTP 200 for item URL: https://[REDACTED].suitetalk.api.netsuite.com/services/rest/record/v1/account/632\n2025-07-13 20:26:08 INFO Received HTTP 200 for item URL: https://[REDACTED].suitetalk.api.netsuite.com/services/rest/record/v1/account/457\n2025-07-13 20:26:09 INFO Received HTTP 200 for item URL: https://[REDACTED].suitetalk.api.netsuite.com/services/rest/record/v1/account/815\n2025-07-13 20:26:09 INFO Received HTTP 200 for item URL: https://[REDACTED].suitetalk.api.netsuite.com/services/rest/record/v1/account/287\n2025-07-13 20:26:09 INFO Received HTTP 200 for item URL: https://[REDACTED].suitetalk.api.netsuite.com/services/rest/record/v1/account/292\n2025-07-13 20:26:10 INFO Received HTTP 200 for item URL: https://[REDACTED].suitetalk.api.netsuite.com/services/rest/record/v1/account/290\n2025-07-13 20:26:10 INFO Received HTTP 200 for item URL: https://[REDACTED].suitetalk.api.netsuite.com/services/rest/record/v1/account/289\n2025-07-13 20:26:10 INFO Received HTTP 200 for item URL: https://[REDACTED].suitetalk.api.netsuite.com/services/rest/record/v1/account/294\n2025-07-13 20:26:10 INFO Received HTTP 200 for item URL: https://[REDACTED].suitetalk.api.netsuite.com/services/rest/record/v1/account/260\n2025-07-13 20:26:11 INFO Received HTTP 200 for item URL: https://[REDACTED].suitetalk.api.netsuite.com/services/rest/record/v1/account/676\n2025-07-13 20:26:11 INFO Received HTTP 200 for item URL: https://[REDACTED].suitetalk.api.netsuite.com/services/rest/record/v1/account/664\n2025-07-13 20:26:11 INFO Received HTTP 200 for item URL: https://[REDACTED].suitetalk.api.netsuite.com/services/rest/record/v1/account/465\n2025-07-13 20:26:12 INFO Received HTTP 200 for item URL: https://[REDACTED].suitetalk.api.netsuite.com/services/rest/record/v1/account/564\n2025-07-13 20:26:12 INFO Received HTTP 200 for item URL: https://[REDACTED].suitetalk.api.netsuite.com/services/rest/record/v1/account/305\n2025-07-13 20:26:12 INFO Received HTTP 200 for item URL: https://[REDACTED].suitetalk.api.netsuite.com/services/rest/record/v1/account/306\n2025-07-13 20:26:13 INFO Received HTTP 200 for item URL: https://[REDACTED].suitetalk.api.netsuite.com/services/rest/record/v1/account/557\n2025-07-13 20:26:13 INFO Received HTTP 200 for item URL: https://[REDACTED].suitetalk.api.netsuite.com/services/rest/record/v1/account/463\n2025-07-13 20:26:14 INFO Received HTTP 200 for item URL: https://[REDACTED].suitetalk.api.netsuite.com/services/rest/record/v1/account/307\n2025-07-13 20:26:14 INFO Received HTTP 200 for item URL: https://[REDACTED].suitetalk.api.netsuite.com/services/rest/record/v1/account/693\n2025-07-13 20:26:14 INFO Received HTTP 200 for item URL: https://[REDACTED].suitetalk.api.netsuite.com/services/rest/record/v1/account/737\n2025-07-13 20:26:14 INFO Received HTTP 200 for item URL: https://[REDACTED].suitetalk.api.netsuite.com/services/rest/record/v1/account/192\n2025-07-13 20:26:15 INFO Received HTTP 200 for item URL: https://[REDACTED].suitetalk.api.netsuite.com/services/rest/record/v1/account/195\n2025-07-13 20:26:15 INFO Received HTTP 200 for item URL: https://[REDACTED].suitetalk.api.netsuite.com/services/rest/record/v1/account/308\n2025-07-13 20:26:15 INFO Received HTTP 200 for item URL: https://[REDACTED].suitetalk.api.netsuite.com/services/rest/record/v1/account/781\n2025-07-13 20:26:16 INFO Received HTTP 200 for item URL: https://[REDACTED].suitetalk.api.netsuite.com/services/rest/record/v1/account/625\n2025-07-13 20:26:16 INFO Received HTTP 200 for item URL: https://[REDACTED].suitetalk.api.netsuite.com/services/rest/record/v1/account/623\n2025-07-13 20:26:16 INFO Received HTTP 200 for item URL: https://[REDACTED].suitetalk.api.netsuite.com/services/rest/record/v1/account/747\n2025-07-13 20:26:16 INFO Received HTTP 200 for item URL: https://[REDACTED].suitetalk.api.netsuite.com/services/rest/record/v1/account/624\n2025-07-13 20:26:17 INFO Received HTTP 200 for item URL: https://[REDACTED].suitetalk.api.netsuite.com/services/rest/record/v1/account/665\n2025-07-13 20:26:17 INFO Received HTTP 200 for item URL: https://[REDACTED].suitetalk.api.netsuite.com/services/rest/record/v1/account/626\n2025-07-13 20:26:17 INFO Received HTTP 200 for item URL: https://[REDACTED].suitetalk.api.netsuite.com/services/rest/record/v1/account/629\n2025-07-13 20:26:17 INFO Received HTTP 200 for item URL: https://[REDACTED].suitetalk.api.netsuite.com/services/rest/record/v1/account/146\n2025-07-13 20:26:18 INFO Received HTTP 200 for item URL: https://[REDACTED].suitetalk.api.netsuite.com/services/rest/record/v1/account/353\n2025-07-13 20:26:18 INFO Received HTTP 200 for item URL: https://[REDACTED].suitetalk.api.netsuite.com/services/rest/record/v1/account/454\n2025-07-13 20:26:18 INFO Received HTTP 200 for item URL: https://[REDACTED].suitetalk.api.netsuite.com/services/rest/record/v1/account/453\n2025-07-13 20:26:19 INFO Received HTTP 200 for item URL: https://[REDACTED].suitetalk.api.netsuite.com/services/rest/record/v1/account/669\n2025-07-13 20:26:19 INFO Received HTTP 200 for item URL: https://[REDACTED].suitetalk.api.netsuite.com/services/rest/record/v1/account/670\n2025-07-13 20:26:19 INFO Received HTTP 200 for item URL: https://[REDACTED].suitetalk.api.netsuite.com/services/rest/record/v1/account/671\n2025-07-13 20:26:19 INFO Received HTTP 200 for item URL: https://[REDACTED].suitetalk.api.netsuite.com/services/rest/record/v1/account/677\n2025-07-13 20:26:20 INFO Received HTTP 200 for item URL: https://[REDACTED].suitetalk.api.netsuite.com/services/rest/record/v1/account/678\n2025-07-13 20:26:20 INFO Received HTTP 200 for item URL: https://[REDACTED].suitetalk.api.netsuite.com/services/rest/record/v1/account/685\n2025-07-13 20:26:20 INFO Received HTTP 200 for item URL: https://[REDACTED].suitetalk.api.netsuite.com/services/rest/record/v1/account/757\n2025-07-13 20:26:20 INFO Received HTTP 200 for item URL: https://[REDACTED].suitetalk.api.netsuite.com/services/rest/record/v1/account/694\n2025-07-13 20:26:21 INFO Received HTTP 200 for item URL: https://[REDACTED].suitetalk.api.netsuite.com/services/rest/record/v1/account/777\n2025-07-13 20:26:21 INFO Received HTTP 200 for item URL: https://[REDACTED].suitetalk.api.netsuite.com/services/rest/record/v1/account/746\n2025-07-13 20:26:21 INFO Received HTTP 200 for item URL: https://[REDACTED].suitetalk.api.netsuite.com/services/rest/record/v1/account/672\n2025-07-13 20:26:22 INFO Received HTTP 200 for item URL: https://[REDACTED].suitetalk.api.netsuite.com/services/rest/record/v1/account/553\n2025-07-13 20:26:22 INFO Received HTTP 200 for item URL: https://[REDACTED].suitetalk.api.netsuite.com/services/rest/record/v1/account/555\n2025-07-13 20:26:22 INFO Received HTTP 200 for item URL: https://[REDACTED].suitetalk.api.netsuite.com/services/rest/record/v1/account/309\n2025-07-13 20:26:22 INFO Received HTTP 200 for item URL: https://[REDACTED].suitetalk.api.netsuite.com/services/rest/record/v1/account/554\n2025-07-13 20:26:23 INFO Received HTTP 200 for item URL: https://[REDACTED].suitetalk.api.netsuite.com/services/rest/record/v1/account/787\n2025-07-13 20:26:23 INFO Received HTTP 200 for item URL: https://[REDACTED].suitetalk.api.netsuite.com/services/rest/record/v1/account/296\n2025-07-13 20:26:23 INFO Received HTTP 200 for item URL: https://[REDACTED].suitetalk.api.netsuite.com/services/rest/record/v1/account/581\n2025-07-13 20:26:24 INFO Received HTTP 200 for item URL: https://[REDACTED].suitetalk.api.netsuite.com/services/rest/record/v1/account/582\n2025-07-13 20:26:24 INFO Received HTTP 200 for item URL: https://[REDACTED].suitetalk.api.netsuite.com/services/rest/record/v1/account/583\n2025-07-13 20:26:24 INFO Received HTTP 200 for item URL: https://[REDACTED].suitetalk.api.netsuite.com/services/rest/record/v1/account/538\n2025-07-13 20:26:25 INFO Received HTTP 200 for item URL: https://[REDACTED].suitetalk.api.netsuite.com/services/rest/record/v1/account/593\n2025-07-13 20:26:25 INFO Received HTTP 200 for item URL: https://[REDACTED].suitetalk.api.netsuite.com/services/rest/record/v1/account/137\n2025-07-13 20:26:25 INFO Received HTTP 200 for item URL: https://[REDACTED].suitetalk.api.netsuite.com/services/rest/record/v1/account/174\n2025-07-13 20:26:26 INFO Received HTTP 200 for item URL: https://[REDACTED].suitetalk.api.netsuite.com/services/rest/record/v1/account/679\n2025-07-13 20:26:26 INFO Received HTTP 200 for item URL: https://[REDACTED].suitetalk.api.netsuite.com/services/rest/record/v1/account/512\n2025-07-13 20:26:26 INFO Received HTTP 200 for item URL: https://[REDACTED].suitetalk.api.netsuite.com/services/rest/record/v1/account/544\n2025-07-13 20:26:26 INFO Received HTTP 200 for item URL: https://[REDACTED].suitetalk.api.netsuite.com/services/rest/record/v1/account/604\n2025-07-13 20:26:27 INFO Received HTTP 200 for item URL: https://[REDACTED].suitetalk.api.netsuite.com/services/rest/record/v1/account/782\n2025-07-13 20:26:27 INFO Received HTTP 200 for item URL: https://[REDACTED].suitetalk.api.netsuite.com/services/rest/record/v1/account/52\n2025-07-13 20:26:27 INFO Received HTTP 200 for item URL: https://[REDACTED].suitetalk.api.netsuite.com/services/rest/record/v1/account/172\n2025-07-13 20:26:28 INFO Received HTTP 200 for item URL: https://[REDACTED].suitetalk.api.netsuite.com/services/rest/record/v1/account/775\n2025-07-13 20:26:28 INFO Received HTTP 200 for item URL: https://[REDACTED].suitetalk.api.netsuite.com/services/rest/record/v1/account/813\n2025-07-13 20:26:28 INFO Received HTTP 200 for item URL: https://[REDACTED].suitetalk.api.netsuite.com/services/rest/record/v1/account/718\n2025-07-13 20:26:30 INFO Received HTTP 200 for item URL: https://[REDACTED].suitetalk.api.netsuite.com/services/rest/record/v1/account/132\n2025-07-13 20:26:30 INFO Received HTTP 200 for item URL: https://[REDACTED].suitetalk.api.netsuite.com/services/rest/record/v1/account/350\n2025-07-13 20:26:30 INFO Received HTTP 200 for item URL: https://[REDACTED].suitetalk.api.netsuite.com/services/rest/record/v1/account/155\n2025-07-13 20:26:30 INFO Received HTTP 200 for item URL: https://[REDACTED].suitetalk.api.netsuite.com/services/rest/record/v1/account/719\n2025-07-13 20:26:31 INFO Received HTTP 200 for item URL: https://[REDACTED].suitetalk.api.netsuite.com/services/rest/record/v1/account/601\n2025-07-13 20:26:31 INFO Received HTTP 200 for item URL: https://[REDACTED].suitetalk.api.netsuite.com/services/rest/record/v1/account/511\n2025-07-13 20:26:31 INFO Received HTTP 200 for item URL: https://[REDACTED].suitetalk.api.netsuite.com/services/rest/record/v1/account/658\n2025-07-13 20:26:32 INFO Received HTTP 200 for item URL: https://[REDACTED].suitetalk.api.netsuite.com/services/rest/record/v1/account/148\n2025-07-13 20:26:32 INFO Received HTTP 200 for item URL: https://[REDACTED].suitetalk.api.netsuite.com/services/rest/record/v1/account/149\n2025-07-13 20:26:32 INFO Received HTTP 200 for item URL: https://[REDACTED].suitetalk.api.netsuite.com/services/rest/record/v1/account/507\n2025-07-13 20:26:32 INFO Received HTTP 200 for item URL: https://[REDACTED].suitetalk.api.netsuite.com/services/rest/record/v1/account/559\n2025-07-13 20:26:33 INFO Received HTTP 200 for item URL: https://[REDACTED].suitetalk.api.netsuite.com/services/rest/record/v1/account/563\n2025-07-13 20:26:33 INFO Received HTTP 200 for item URL: https://[REDACTED].suitetalk.api.netsuite.com/services/rest/record/v1/account/509\n2025-07-13 20:26:33 INFO Received HTTP 200 for item URL: https://[REDACTED].suitetalk.api.netsuite.com/services/rest/record/v1/account/510\n2025-07-13 20:26:34 INFO Received HTTP 200 for item URL: https://[REDACTED].suitetalk.api.netsuite.com/services/rest/record/v1/account/591\n2025-07-13 20:26:34 INFO Received HTTP 200 for item URL: https://[REDACTED].suitetalk.api.netsuite.com/services/rest/record/v1/account/594\n2025-07-13 20:26:34 INFO Received HTTP 200 for item URL: https://[REDACTED].suitetalk.api.netsuite.com/services/rest/record/v1/account/711\n2025-07-13 20:26:35 INFO Received HTTP 200 for item URL: https://[REDACTED].suitetalk.api.netsuite.com/services/rest/record/v1/account/713\n2025-07-13 20:26:35 INFO Received HTTP 200 for item URL: https://[REDACTED].suitetalk.api.netsuite.com/services/rest/record/v1/account/152\n2025-07-13 20:26:35 INFO Received HTTP 200 for item URL: https://[REDACTED].suitetalk.api.netsuite.com/services/rest/record/v1/account/560\n2025-07-13 20:26:36 INFO Received HTTP 200 for item URL: https://[REDACTED].suitetalk.api.netsuite.com/services/rest/record/v1/account/589\n2025-07-13 20:26:36 INFO Received HTTP 200 for item URL: https://[REDACTED].suitetalk.api.netsuite.com/services/rest/record/v1/account/638\n2025-07-13 20:26:36 INFO Received HTTP 200 for item URL: https://[REDACTED].suitetalk.api.netsuite.com/services/rest/record/v1/account/639\n2025-07-13 20:26:36 INFO Received HTTP 200 for item URL: https://[REDACTED].suitetalk.api.netsuite.com/services/rest/record/v1/account/150\n2025-07-13 20:26:37 INFO Received HTTP 200 for item URL: https://[REDACTED].suitetalk.api.netsuite.com/services/rest/record/v1/account/489\n2025-07-13 20:26:37 INFO Received HTTP 200 for item URL: https://[REDACTED].suitetalk.api.netsuite.com/services/rest/record/v1/account/490\n2025-07-13 20:26:38 INFO Received HTTP 200 for item URL: https://[REDACTED].suitetalk.api.netsuite.com/services/rest/record/v1/account/491\n2025-07-13 20:26:38 INFO Received HTTP 200 for item URL: https://[REDACTED].suitetalk.api.netsuite.com/services/rest/record/v1/account/803\n2025-07-13 20:26:38 INFO Received HTTP 200 for item URL: https://[REDACTED].suitetalk.api.netsuite.com/services/rest/record/v1/account/804\n2025-07-13 20:26:38 INFO Received HTTP 200 for item URL: https://[REDACTED].suitetalk.api.netsuite.com/services/rest/record/v1/account/812\n2025-07-13 20:26:39 INFO Received HTTP 200 for item URL: https://[REDACTED].suitetalk.api.netsuite.com/services/rest/record/v1/account/817\n2025-07-13 20:26:39 INFO Received HTTP 200 for item URL: https://[REDACTED].suitetalk.api.netsuite.com/services/rest/record/v1/account/497\n2025-07-13 20:26:39 INFO Received HTTP 200 for item URL: https://[REDACTED].suitetalk.api.netsuite.com/services/rest/record/v1/account/543\n2025-07-13 20:26:40 INFO Received HTTP 200 for item URL: https://[REDACTED].suitetalk.api.netsuite.com/services/rest/record/v1/account/525\n2025-07-13 20:26:40 INFO Received HTTP 200 for item URL: https://[REDACTED].suitetalk.api.netsuite.com/services/rest/record/v1/account/523\n2025-07-13 20:26:40 INFO Received HTTP 200 for item URL: https://[REDACTED].suitetalk.api.netsuite.com/services/rest/record/v1/account/126\n2025-07-13 20:26:40 INFO Received HTTP 200 for item URL: https://[REDACTED].suitetalk.api.netsuite.com/services/rest/record/v1/account/521\n2025-07-13 20:26:41 INFO Received HTTP 200 for item URL: https://[REDACTED].suitetalk.api.netsuite.com/services/rest/record/v1/account/673\n2025-07-13 20:26:41 INFO Received HTTP 200 for item URL: https://[REDACTED].suitetalk.api.netsuite.com/services/rest/record/v1/account/674\n2025-07-13 20:26:41 INFO Received HTTP 200 for item URL: https://[REDACTED].suitetalk.api.netsuite.com/services/rest/record/v1/account/696\n2025-07-13 20:26:42 INFO Received HTTP 200 for item URL: https://[REDACTED].suitetalk.api.netsuite.com/services/rest/record/v1/account/697\n2025-07-13 20:26:42 INFO Received HTTP 200 for item URL: https://[REDACTED].suitetalk.api.netsuite.com/services/rest/record/v1/account/702\n2025-07-13 20:26:42 INFO Received HTTP 200 for item URL: https://[REDACTED].suitetalk.api.netsuite.com/services/rest/record/v1/account/706\n2025-07-13 20:26:42 INFO Received HTTP 200 for item URL: https://[REDACTED].suitetalk.api.netsuite.com/services/rest/record/v1/account/731\n2025-07-13 20:26:43 INFO Received HTTP 200 for item URL: https://[REDACTED].suitetalk.api.netsuite.com/services/rest/record/v1/account/732\n2025-07-13 20:26:43 INFO Received HTTP 200 for item URL: https://[REDACTED].suitetalk.api.netsuite.com/services/rest/record/v1/account/733\n2025-07-13 20:26:43 INFO Received HTTP 200 for item URL: https://[REDACTED].suitetalk.api.netsuite.com/services/rest/record/v1/account/734\n2025-07-13 20:26:44 INFO Received HTTP 200 for item URL: https://[REDACTED].suitetalk.api.netsuite.com/services/rest/record/v1/account/745\n2025-07-13 20:26:44 INFO Received HTTP 200 for item URL: https://[REDACTED].suitetalk.api.netsuite.com/services/rest/record/v1/account/750\n2025-07-13 20:26:44 INFO Received HTTP 200 for item URL: https://[REDACTED].suitetalk.api.netsuite.com/services/rest/record/v1/account/756\n2025-07-13 20:26:45 INFO Received HTTP 200 for item URL: https://[REDACTED].suitetalk.api.netsuite.com/services/rest/record/v1/account/765\n2025-07-13 20:26:45 INFO Received HTTP 200 for item URL: https://[REDACTED].suitetalk.api.netsuite.com/services/rest/record/v1/account/776\n2025-07-13 20:26:45 INFO Received HTTP 200 for item URL: https://[REDACTED].suitetalk.api.netsuite.com/services/rest/record/v1/account/789\n2025-07-13 20:26:46 INFO Received HTTP 200 for item URL: https://[REDACTED].suitetalk.api.netsuite.com/services/rest/record/v1/account/790\n2025-07-13 20:26:46 INFO Received HTTP 200 for item URL: https://[REDACTED].suitetalk.api.netsuite.com/services/rest/record/v1/account/791\n2025-07-13 20:26:46 INFO Received HTTP 200 for item URL: https://[REDACTED].suitetalk.api.netsuite.com/services/rest/record/v1/account/792\n2025-07-13 20:26:46 INFO Received HTTP 200 for item URL: https://[REDACTED].suitetalk.api.netsuite.com/services/rest/record/v1/account/793\n2025-07-13 20:26:47 INFO Received HTTP 200 for item URL: https://[REDACTED].suitetalk.api.netsuite.com/services/rest/record/v1/account/794\n2025-07-13 20:26:47 INFO Received HTTP 200 for item URL: https://[REDACTED].suitetalk.api.netsuite.com/services/rest/record/v1/account/800\n2025-07-13 20:26:47 INFO Received HTTP 200 for item URL: https://[REDACTED].suitetalk.api.netsuite.com/services/rest/record/v1/account/801\n2025-07-13 20:26:47 INFO Received HTTP 200 for item URL: https://[REDACTED].suitetalk.api.netsuite.com/services/rest/record/v1/account/802\n2025-07-13 20:26:48 INFO Received HTTP 200 for item URL: https://[REDACTED].suitetalk.api.netsuite.com/services/rest/record/v1/account/807\n2025-07-13 20:26:48 INFO Received HTTP 200 for item URL: https://[REDACTED].suitetalk.api.netsuite.com/services/rest/record/v1/account/811\n2025-07-13 20:26:48 INFO Received HTTP 200 for item URL: https://[REDACTED].suitetalk.api.netsuite.com/services/rest/record/v1/account/492\n2025-07-13 20:26:48 INFO Received HTTP 200 for item URL: https://[REDACTED].suitetalk.api.netsuite.com/services/rest/record/v1/account/493\n2025-07-13 20:26:49 INFO Received HTTP 200 for item URL: https://[REDACTED].suitetalk.api.netsuite.com/services/rest/record/v1/account/494\n2025-07-13 20:26:49 INFO Received HTTP 200 for item URL: https://[REDACTED].suitetalk.api.netsuite.com/services/rest/record/v1/account/495\n2025-07-13 20:26:49 INFO Received HTTP 200 for item URL: https://[REDACTED].suitetalk.api.netsuite.com/services/rest/record/v1/account/496\n2025-07-13 20:26:49 INFO Received HTTP 200 for item URL: https://[REDACTED].suitetalk.api.netsuite.com/services/rest/record/v1/account/520\n2025-07-13 20:26:50 INFO Received HTTP 200 for item URL: https://[REDACTED].suitetalk.api.netsuite.com/services/rest/record/v1/account/636\n2025-07-13 20:26:50 INFO Received HTTP 200 for item URL: https://[REDACTED].suitetalk.api.netsuite.com/services/rest/record/v1/account/698\n2025-07-13 20:26:50 INFO Received HTTP 200 for item URL: https://[REDACTED].suitetalk.api.netsuite.com/services/rest/record/v1/account/661\n2025-07-13 20:26:51 INFO Received HTTP 200 for item URL: https://[REDACTED].suitetalk.api.netsuite.com/services/rest/record/v1/account/795\n2025-07-13 20:26:51 INFO Received HTTP 200 for item URL: https://[REDACTED].suitetalk.api.netsuite.com/services/rest/record/v1/account/796\n2025-07-13 20:26:51 INFO Received HTTP 200 for item URL: https://[REDACTED].suitetalk.api.netsuite.com/services/rest/record/v1/account/797\n2025-07-13 20:26:51 INFO Received HTTP 200 for item URL: https://[REDACTED].suitetalk.api.netsuite.com/services/rest/record/v1/account/798\n2025-07-13 20:26:52 INFO Received HTTP 200 for item URL: https://[REDACTED].suitetalk.api.netsuite.com/services/rest/record/v1/account/122\n2025-07-13 20:26:52 INFO Received HTTP 200 for item URL: https://[REDACTED].suitetalk.api.netsuite.com/services/rest/record/v1/account/135\n2025-07-13 20:26:52 INFO Received HTTP 200 for item URL: https://[REDACTED].suitetalk.api.netsuite.com/services/rest/record/v1/account/513\n2025-07-13 20:26:52 INFO Received HTTP 200 for item URL: https://[REDACTED].suitetalk.api.netsuite.com/services/rest/record/v1/account/508\n2025-07-13 20:26:53 INFO Received HTTP 200 for item URL: https://[REDACTED].suitetalk.api.netsuite.com/services/rest/record/v1/account/514\n2025-07-13 20:26:53 INFO Received HTTP 200 for item URL: https://[REDACTED].suitetalk.api.netsuite.com/services/rest/record/v1/account/597\n2025-07-13 20:26:53 INFO Received HTTP 200 for item URL: https://[REDACTED].suitetalk.api.netsuite.com/services/rest/record/v1/account/645\n2025-07-13 20:26:54 INFO Received HTTP 200 for item URL: https://[REDACTED].suitetalk.api.netsuite.com/services/rest/record/v1/account/556\n2025-07-13 20:26:54 INFO Received HTTP 200 for item URL: https://[REDACTED].suitetalk.api.netsuite.com/services/rest/record/v1/account/220\n2025-07-13 20:26:54 INFO Received HTTP 200 for item URL: https://[REDACTED].suitetalk.api.netsuite.com/services/rest/record/v1/account/689\n2025-07-13 20:26:55 INFO Received HTTP 200 for item URL: https://[REDACTED].suitetalk.api.netsuite.com/services/rest/record/v1/account/810\n2025-07-13 20:26:55 INFO Received HTTP 200 for item URL: https://[REDACTED].suitetalk.api.netsuite.com/services/rest/record/v1/account/467\n2025-07-13 20:26:55 INFO Received HTTP 200 for item URL: https://[REDACTED].suitetalk.api.netsuite.com/services/rest/record/v1/account/505\n2025-07-13 20:26:55 INFO Received HTTP 200 for item URL: https://[REDACTED].suitetalk.api.netsuite.com/services/rest/record/v1/account/577\n2025-07-13 20:26:56 INFO Received HTTP 200 for item URL: https://[REDACTED].suitetalk.api.netsuite.com/services/rest/record/v1/account/578\n2025-07-13 20:26:56 INFO Received HTTP 200 for item URL: https://[REDACTED].suitetalk.api.netsuite.com/services/rest/record/v1/account/595\n2025-07-13 20:26:56 INFO Received HTTP 200 for item URL: https://[REDACTED].suitetalk.api.netsuite.com/services/rest/record/v1/account/688\n2025-07-13 20:26:56 INFO Received HTTP 200 for item URL: https://[REDACTED].suitetalk.api.netsuite.com/services/rest/record/v1/account/752\n2025-07-13 20:27:03 INFO Received HTTP 200 for item URL: https://[REDACTED].suitetalk.api.netsuite.com/services/rest/record/v1/account/136\n2025-07-13 20:27:03 INFO Received HTTP 200 for item URL: https://[REDACTED].suitetalk.api.netsuite.com/services/rest/record/v1/account/139\n2025-07-13 20:27:04 INFO Received HTTP 200 for item URL: https://[REDACTED].suitetalk.api.netsuite.com/services/rest/record/v1/account/585\n2025-07-13 20:27:04 INFO Received HTTP 200 for item URL: https://[REDACTED].suitetalk.api.netsuite.com/services/rest/record/v1/account/586\n2025-07-13 20:27:04 INFO Received HTTP 200 for item URL: https://[REDACTED].suitetalk.api.netsuite.com/services/rest/record/v1/account/637\n2025-07-13 20:27:04 INFO Received HTTP 200 for item URL: https://[REDACTED].suitetalk.api.netsuite.com/services/rest/record/v1/account/349\n2025-07-13 20:27:05 INFO Received HTTP 200 for item URL: https://[REDACTED].suitetalk.api.netsuite.com/services/rest/record/v1/account/682\n2025-07-13 20:27:05 INFO Received HTTP 200 for item URL: https://[REDACTED].suitetalk.api.netsuite.com/services/rest/record/v1/account/720\n2025-07-13 20:27:06 INFO Received HTTP 200 for item URL: https://[REDACTED].suitetalk.api.netsuite.com/services/rest/record/v1/account/753\n2025-07-13 20:27:06 INFO Received HTTP 200 for item URL: https://[REDACTED].suitetalk.api.netsuite.com/services/rest/record/v1/account/754\n2025-07-13 20:27:07 INFO Received HTTP 200 for item URL: https://[REDACTED].suitetalk.api.netsuite.com/services/rest/record/v1/account/730\n2025-07-13 20:27:07 INFO Received HTTP 200 for item URL: https://[REDACTED].suitetalk.api.netsuite.com/services/rest/record/v1/account/160\n2025-07-13 20:27:07 INFO Received HTTP 200 for item URL: https://[REDACTED].suitetalk.api.netsuite.com/services/rest/record/v1/account/209\n2025-07-13 20:27:08 INFO Received HTTP 200 for item URL: https://[REDACTED].suitetalk.api.netsuite.com/services/rest/record/v1/account/210\n2025-07-13 20:27:08 INFO Received HTTP 200 for item URL: https://[REDACTED].suitetalk.api.netsuite.com/services/rest/record/v1/account/157\n2025-07-13 20:27:08 INFO Received HTTP 200 for item URL: https://[REDACTED].suitetalk.api.netsuite.com/services/rest/record/v1/account/203\n2025-07-13 20:27:08 INFO Received HTTP 200 for item URL: https://[REDACTED].suitetalk.api.netsuite.com/services/rest/record/v1/account/204\n2025-07-13 20:27:09 INFO Received HTTP 200 for item URL: https://[REDACTED].suitetalk.api.netsuite.com/services/rest/record/v1/account/161\n2025-07-13 20:27:09 INFO Received HTTP 200 for item URL: https://[REDACTED].suitetalk.api.netsuite.com/services/rest/record/v1/account/211\n2025-07-13 20:27:09 INFO Received HTTP 200 for item URL: https://[REDACTED].suitetalk.api.netsuite.com/services/rest/record/v1/account/212\n2025-07-13 20:27:09 INFO Received HTTP 200 for item URL: https://[REDACTED].suitetalk.api.netsuite.com/services/rest/record/v1/account/159\n2025-07-13 20:27:10 INFO Received HTTP 200 for item URL: https://[REDACTED].suitetalk.api.netsuite.com/services/rest/record/v1/account/207\n2025-07-13 20:27:10 INFO Received HTTP 200 for item URL: https://[REDACTED].suitetalk.api.netsuite.com/services/rest/record/v1/account/208\n2025-07-13 20:27:10 INFO Received HTTP 200 for item URL: https://[REDACTED].suitetalk.api.netsuite.com/services/rest/record/v1/account/158\n2025-07-13 20:27:11 INFO Received HTTP 200 for item URL: https://[REDACTED].suitetalk.api.netsuite.com/services/rest/record/v1/account/205\n2025-07-13 20:27:11 INFO Received HTTP 200 for item URL: https://[REDACTED].suitetalk.api.netsuite.com/services/rest/record/v1/account/206\n2025-07-13 20:27:11 INFO Received HTTP 200 for item URL: https://[REDACTED].suitetalk.api.netsuite.com/services/rest/record/v1/account/504\n2025-07-13 20:27:11 INFO Received HTTP 200 for item URL: https://[REDACTED].suitetalk.api.netsuite.com/services/rest/record/v1/account/741\n2025-07-13 20:27:12 INFO Received HTTP 200 for item URL: https://[REDACTED].suitetalk.api.netsuite.com/services/rest/record/v1/account/742\n2025-07-13 20:27:12 INFO Received HTTP 200 for item URL: https://[REDACTED].suitetalk.api.netsuite.com/services/rest/record/v1/account/743\n2025-07-13 20:27:12 INFO Received HTTP 200 for item URL: https://[REDACTED].suitetalk.api.netsuite.com/services/rest/record/v1/account/547\n2025-07-13 20:27:12 INFO Received HTTP 200 for item URL: https://[REDACTED].suitetalk.api.netsuite.com/services/rest/record/v1/account/548\n2025-07-13 20:27:13 INFO Received HTTP 200 for item URL: https://[REDACTED].suitetalk.api.netsuite.com/services/rest/record/v1/account/549\n2025-07-13 20:27:13 INFO Received HTTP 200 for item URL: https://[REDACTED].suitetalk.api.netsuite.com/services/rest/record/v1/account/663\n2025-07-13 20:27:13 INFO Received HTTP 200 for item URL: https://[REDACTED].suitetalk.api.netsuite.com/services/rest/record/v1/account/687\n2025-07-13 20:27:13 INFO Received HTTP 200 for item URL: https://[REDACTED].suitetalk.api.netsuite.com/services/rest/record/v1/account/712\n2025-07-13 20:27:14 INFO Received HTTP 200 for item URL: https://[REDACTED].suitetalk.api.netsuite.com/services/rest/record/v1/account/466\n2025-07-13 20:27:14 INFO Received HTTP 200 for item URL: https://[REDACTED].suitetalk.api.netsuite.com/services/rest/record/v1/account/516\n2025-07-13 20:27:14 INFO Received HTTP 200 for item URL: https://[REDACTED].suitetalk.api.netsuite.com/services/rest/record/v1/account/517\n2025-07-13 20:27:15 INFO Received HTTP 200 for item URL: https://[REDACTED].suitetalk.api.netsuite.com/services/rest/record/v1/account/518\n2025-07-13 20:27:15 INFO Received HTTP 200 for item URL: https://[REDACTED].suitetalk.api.netsuite.com/services/rest/record/v1/account/579\n2025-07-13 20:27:15 INFO Received HTTP 200 for item URL: https://[REDACTED].suitetalk.api.netsuite.com/services/rest/record/v1/account/162\n2025-07-13 20:27:15 INFO Received HTTP 200 for item URL: https://[REDACTED].suitetalk.api.netsuite.com/services/rest/record/v1/account/213\n2025-07-13 20:27:15 INFO Received HTTP 200 for item URL: https://[REDACTED].suitetalk.api.netsuite.com/services/rest/record/v1/account/503\n2025-07-13 20:27:16 INFO Received HTTP 200 for item URL: https://[REDACTED].suitetalk.api.netsuite.com/services/rest/record/v1/account/524\n2025-07-13 20:27:16 INFO Received HTTP 200 for item URL: https://[REDACTED].suitetalk.api.netsuite.com/services/rest/record/v1/account/640\n2025-07-13 20:27:16 INFO Received HTTP 200 for item URL: https://[REDACTED].suitetalk.api.netsuite.com/services/rest/record/v1/account/542\n2025-07-13 20:27:17 INFO Received HTTP 200 for item URL: https://[REDACTED].suitetalk.api.netsuite.com/services/rest/record/v1/account/590\n2025-07-13 20:27:17 INFO Received HTTP 200 for item URL: https://[REDACTED].suitetalk.api.netsuite.com/services/rest/record/v1/account/468\n2025-07-13 20:27:17 INFO Received HTTP 200 for item URL: https://[REDACTED].suitetalk.api.netsuite.com/services/rest/record/v1/account/469\n2025-07-13 20:27:17 INFO Received HTTP 200 for item URL: https://[REDACTED].suitetalk.api.netsuite.com/services/rest/record/v1/account/809\n2025-07-13 20:27:18 INFO Received HTTP 200 for item URL: https://[REDACTED].suitetalk.api.netsuite.com/services/rest/record/v1/account/123\n2025-07-13 20:27:18 INFO Received HTTP 200 for item URL: https://[REDACTED].suitetalk.api.netsuite.com/services/rest/record/v1/account/352\n2025-07-13 20:27:18 INFO Received HTTP 200 for item URL: https://[REDACTED].suitetalk.api.netsuite.com/services/rest/record/v1/account/570\n2025-07-13 20:27:19 INFO Received HTTP 200 for item URL: https://[REDACTED].suitetalk.api.netsuite.com/services/rest/record/v1/account/214\n2025-07-13 20:27:19 INFO Received HTTP 200 for item URL: https://[REDACTED].suitetalk.api.netsuite.com/services/rest/record/v1/account/111\n2025-07-13 20:27:19 INFO Received HTTP 200 for item URL: https://[REDACTED].suitetalk.api.netsuite.com/services/rest/record/v1/account/165\n2025-07-13 20:27:20 INFO Received HTTP 200 for item URL: https://[REDACTED].suitetalk.api.netsuite.com/services/rest/record/v1/account/572\n2025-07-13 20:27:20 INFO Received HTTP 200 for item URL: https://[REDACTED].suitetalk.api.netsuite.com/services/rest/record/v1/account/110\n2025-07-13 20:27:20 INFO Received HTTP 200 for item URL: https://[REDACTED].suitetalk.api.netsuite.com/services/rest/record/v1/account/116\n2025-07-13 20:27:21 INFO Received HTTP 200 for item URL: https://[REDACTED].suitetalk.api.netsuite.com/services/rest/record/v1/account/117\n2025-07-13 20:27:21 INFO Received HTTP 200 for item URL: https://[REDACTED].suitetalk.api.netsuite.com/services/rest/record/v1/account/200\n2025-07-13 20:27:21 INFO Received HTTP 200 for item URL: https://[REDACTED].suitetalk.api.netsuite.com/services/rest/record/v1/account/199\n2025-07-13 20:27:21 INFO Received HTTP 200 for item URL: https://[REDACTED].suitetalk.api.netsuite.com/services/rest/record/v1/account/166\n2025-07-13 20:27:22 INFO Received HTTP 200 for item URL: https://[REDACTED].suitetalk.api.netsuite.com/services/rest/record/v1/account/119\n2025-07-13 20:27:22 INFO Received HTTP 200 for item URL: https://[REDACTED].suitetalk.api.netsuite.com/services/rest/record/v1/account/118\n2025-07-13 20:27:22 INFO Received HTTP 200 for item URL: https://[REDACTED].suitetalk.api.netsuite.com/services/rest/record/v1/account/216\n2025-07-13 20:27:23 INFO Received HTTP 200 for item URL: https://[REDACTED].suitetalk.api.netsuite.com/services/rest/record/v1/account/218\n2025-07-13 20:27:23 INFO Received HTTP 200 for item URL: https://[REDACTED].suitetalk.api.netsuite.com/services/rest/record/v1/account/565\n2025-07-13 20:27:23 INFO Received HTTP 200 for item URL: https://[REDACTED].suitetalk.api.netsuite.com/services/rest/record/v1/account/566\n2025-07-13 20:27:23 INFO Received HTTP 200 for item URL: https://[REDACTED].suitetalk.api.netsuite.com/services/rest/record/v1/account/567\n2025-07-13 20:27:24 INFO Received HTTP 200 for item URL: https://[REDACTED].suitetalk.api.netsuite.com/services/rest/record/v1/account/568\n2025-07-13 20:27:24 INFO Received HTTP 200 for item URL: https://[REDACTED].suitetalk.api.netsuite.com/services/rest/record/v1/account/456\n2025-07-13 20:27:24 INFO Received HTTP 200 for item URL: https://[REDACTED].suitetalk.api.netsuite.com/services/rest/record/v1/account/575\n2025-07-13 20:27:25 INFO Received HTTP 200 for item URL: https://[REDACTED].suitetalk.api.netsuite.com/services/rest/record/v1/account/587\n2025-07-13 20:27:25 INFO Received HTTP 200 for item URL: https://[REDACTED].suitetalk.api.netsuite.com/services/rest/record/v1/account/588\n2025-07-13 20:27:25 INFO Received HTTP 200 for item URL: https://[REDACTED].suitetalk.api.netsuite.com/services/rest/record/v1/account/647\n2025-07-13 20:27:25 INFO Received HTTP 200 for item URL: https://[REDACTED].suitetalk.api.netsuite.com/services/rest/record/v1/account/569\n2025-07-13 20:27:26 INFO Received HTTP 200 for item URL: https://[REDACTED].suitetalk.api.netsuite.com/services/rest/record/v1/account/471\n2025-07-13 20:27:26 INFO Received HTTP 200 for item URL: https://[REDACTED].suitetalk.api.netsuite.com/services/rest/record/v1/account/654\n2025-07-13 20:27:26 INFO Received HTTP 200 for item URL: https://[REDACTED].suitetalk.api.netsuite.com/services/rest/record/v1/account/168\n2025-07-13 20:27:26 INFO Received HTTP 200 for item URL: https://[REDACTED].suitetalk.api.netsuite.com/services/rest/record/v1/account/545\n2025-07-13 20:27:27 INFO Received HTTP 200 for item URL: https://[REDACTED].suitetalk.api.netsuite.com/services/rest/record/v1/account/576\n2025-07-13 20:27:27 INFO Received HTTP 200 for item URL: https://[REDACTED].suitetalk.api.netsuite.com/services/rest/record/v1/account/749\n2025-07-13 20:27:27 INFO Received HTTP 200 for item URL: https://[REDACTED].suitetalk.api.netsuite.com/services/rest/record/v1/account/167\n2025-07-13 20:27:27 INFO Received HTTP 200 for item URL: https://[REDACTED].suitetalk.api.netsuite.com/services/rest/record/v1/account/109\n2025-07-13 20:27:28 INFO Received HTTP 200 for item URL: https://[REDACTED].suitetalk.api.netsuite.com/services/rest/record/v1/account/470\n2025-07-13 20:27:28 INFO Received HTTP 200 for item URL: https://[REDACTED].suitetalk.api.netsuite.com/services/rest/record/v1/account/506\n2025-07-13 20:27:28 INFO Received HTTP 200 for item URL: https://[REDACTED].suitetalk.api.netsuite.com/services/rest/record/v1/account/472\n2025-07-13 20:27:28 INFO Received HTTP 200 for item URL: https://[REDACTED].suitetalk.api.netsuite.com/services/rest/record/v1/account/473\n2025-07-13 20:27:29 INFO Received HTTP 200 for item URL: https://[REDACTED].suitetalk.api.netsuite.com/services/rest/record/v1/account/140\n2025-07-13 20:27:29 INFO Received HTTP 200 for item URL: https://[REDACTED].suitetalk.api.netsuite.com/services/rest/record/v1/account/145\n2025-07-13 20:27:29 INFO Received HTTP 200 for item URL: https://[REDACTED].suitetalk.api.netsuite.com/services/rest/record/v1/account/143\n2025-07-13 20:27:30 INFO Received HTTP 200 for item URL: https://[REDACTED].suitetalk.api.netsuite.com/services/rest/record/v1/account/144\n2025-07-13 20:27:30 INFO Received HTTP 200 for item URL: https://[REDACTED].suitetalk.api.netsuite.com/services/rest/record/v1/account/704\n2025-07-13 20:27:31 INFO Received HTTP 200 for item URL: https://[REDACTED].suitetalk.api.netsuite.com/services/rest/record/v1/account/762\n2025-07-13 20:27:31 INFO Received HTTP 200 for item URL: https://[REDACTED].suitetalk.api.netsuite.com/services/rest/record/v1/account/763\n2025-07-13 20:27:31 INFO Received HTTP 200 for item URL: https://[REDACTED].suitetalk.api.netsuite.com/services/rest/record/v1/account/767\n2025-07-13 20:27:31 INFO Received HTTP 200 for item URL: https://[REDACTED].suitetalk.api.netsuite.com/services/rest/record/v1/account/771\n2025-07-13 20:27:32 INFO Received HTTP 200 for item URL: https://[REDACTED].suitetalk.api.netsuite.com/services/rest/record/v1/account/715\n2025-07-13 20:27:32 INFO Received HTTP 200 for item URL: https://[REDACTED].suitetalk.api.netsuite.com/services/rest/record/v1/account/722\n2025-07-13 20:27:32 INFO Received HTTP 200 for item URL: https://[REDACTED].suitetalk.api.netsuite.com/services/rest/record/v1/account/142\n2025-07-13 20:27:32 INFO Received HTTP 200 for item URL: https://[REDACTED].suitetalk.api.netsuite.com/services/rest/record/v1/account/699\n2025-07-13 20:27:33 INFO Received HTTP 200 for item URL: https://[REDACTED].suitetalk.api.netsuite.com/services/rest/record/v1/account/703\n2025-07-13 20:27:33 INFO Received HTTP 200 for item URL: https://[REDACTED].suitetalk.api.netsuite.com/services/rest/record/v1/account/708\n2025-07-13 20:27:34 INFO Received HTTP 200 for item URL: https://[REDACTED].suitetalk.api.netsuite.com/services/rest/record/v1/account/714\n2025-07-13 20:27:34 INFO Received HTTP 200 for item URL: https://[REDACTED].suitetalk.api.netsuite.com/services/rest/record/v1/account/764\n2025-07-13 20:27:34 INFO Received HTTP 200 for item URL: https://[REDACTED].suitetalk.api.netsuite.com/services/rest/record/v1/account/766\n2025-07-13 20:27:35 INFO Received HTTP 200 for item URL: https://[REDACTED].suitetalk.api.netsuite.com/services/rest/record/v1/account/770\n2025-07-13 20:27:35 INFO Received HTTP 200 for item URL: https://[REDACTED].suitetalk.api.netsuite.com/services/rest/record/v1/account/759\n2025-07-13 20:27:35 INFO Received HTTP 200 for item URL: https://[REDACTED].suitetalk.api.netsuite.com/services/rest/record/v1/account/778\n2025-07-13 20:27:35 INFO Received HTTP 200 for item URL: https://[REDACTED].suitetalk.api.netsuite.com/services/rest/record/v1/account/701\n2025-07-13 20:27:36 INFO Received HTTP 200 for item URL: https://[REDACTED].suitetalk.api.netsuite.com/services/rest/record/v1/account/558\n2025-07-13 20:27:36 INFO Received HTTP 200 for item URL: https://[REDACTED].suitetalk.api.netsuite.com/services/rest/record/v1/account/125\n2025-07-13 20:27:36 INFO Received HTTP 200 for item URL: https://[REDACTED].suitetalk.api.netsuite.com/services/rest/record/v1/account/127\n2025-07-13 20:27:36 INFO Received HTTP 200 for item URL: https://[REDACTED].suitetalk.api.netsuite.com/services/rest/record/v1/account/552\n2025-07-13 20:27:37 INFO Received HTTP 200 for item URL: https://[REDACTED].suitetalk.api.netsuite.com/services/rest/record/v1/account/690\n2025-07-13 20:27:37 INFO Received HTTP 200 for item URL: https://[REDACTED].suitetalk.api.netsuite.com/services/rest/record/v1/account/691\n2025-07-13 20:27:37 INFO Received HTTP 200 for item URL: https://[REDACTED].suitetalk.api.netsuite.com/services/rest/record/v1/account/692\n2025-07-13 20:27:37 INFO Received HTTP 200 for item URL: https://[REDACTED].suitetalk.api.netsuite.com/services/rest/record/v1/account/736\n2025-07-13 20:27:38 INFO Received HTTP 200 for item URL: https://[REDACTED].suitetalk.api.netsuite.com/services/rest/record/v1/account/784\n2025-07-13 20:27:38 INFO Received HTTP 200 for item URL: https://[REDACTED].suitetalk.api.netsuite.com/services/rest/record/v1/account/599\n2025-07-13 20:27:38 INFO Received HTTP 200 for item URL: https://[REDACTED].suitetalk.api.netsuite.com/services/rest/record/v1/account/729\n2025-07-13 20:27:38 INFO Received HTTP 200 for item URL: https://[REDACTED].suitetalk.api.netsuite.com/services/rest/record/v1/account/744\n2025-07-13 20:27:39 INFO Received HTTP 200 for item URL: https://[REDACTED].suitetalk.api.netsuite.com/services/rest/record/v1/account/788\n2025-07-13 20:27:39 INFO Received HTTP 200 for item URL: https://[REDACTED].suitetalk.api.netsuite.com/services/rest/record/v1/account/480\n2025-07-13 20:27:39 INFO Received HTTP 200 for item URL: https://[REDACTED].suitetalk.api.netsuite.com/services/rest/record/v1/account/481\n2025-07-13 20:27:40 INFO Received HTTP 200 for item URL: https://[REDACTED].suitetalk.api.netsuite.com/services/rest/record/v1/account/659\n2025-07-13 20:27:40 INFO Received HTTP 200 for item URL: https://[REDACTED].suitetalk.api.netsuite.com/services/rest/record/v1/account/536\n2025-07-13 20:27:40 INFO Received HTTP 200 for item URL: https://[REDACTED].suitetalk.api.netsuite.com/services/rest/record/v1/account/164\n2025-07-13 20:27:40 INFO Received HTTP 200 for item URL: https://[REDACTED].suitetalk.api.netsuite.com/services/rest/record/v1/account/785\n2025-07-13 20:27:41 INFO Received HTTP 200 for item URL: https://[REDACTED].suitetalk.api.netsuite.com/services/rest/record/v1/account/163\n2025-07-13 20:27:41 INFO Received HTTP 200 for item URL: https://[REDACTED].suitetalk.api.netsuite.com/services/rest/record/v1/account/562\n2025-07-13 20:27:41 INFO Received HTTP 200 for item URL: https://[REDACTED].suitetalk.api.netsuite.com/services/rest/record/v1/account/201\n2025-07-13 20:27:41 INFO Received HTTP 200 for item URL: https://[REDACTED].suitetalk.api.netsuite.com/services/rest/record/v1/account/681\n2025-07-13 20:27:42 INFO Received HTTP 200 for item URL: https://[REDACTED].suitetalk.api.netsuite.com/services/rest/record/v1/account/141\n2025-07-13 20:27:42 INFO Received HTTP 200 for item URL: https://[REDACTED].suitetalk.api.netsuite.com/services/rest/record/v1/account/680\n2025-07-13 20:27:42 INFO Received HTTP 200 for item URL: https://[REDACTED].suitetalk.api.netsuite.com/services/rest/record/v1/account/131\n2025-07-13 20:27:43 INFO Received HTTP 200 for item URL: https://[REDACTED].suitetalk.api.netsuite.com/services/rest/record/v1/account/113\n2025-07-13 20:27:43 INFO Received HTTP 200 for item URL: https://[REDACTED].suitetalk.api.netsuite.com/services/rest/record/v1/account/112\n2025-07-13 20:27:43 INFO Received HTTP 200 for item URL: https://[REDACTED].suitetalk.api.netsuite.com/services/rest/record/v1/account/124\n2025-07-13 20:27:43 INFO Received HTTP 200 for item URL: https://[REDACTED].suitetalk.api.netsuite.com/services/rest/record/v1/account/129\n2025-07-13 20:27:44 INFO Received HTTP 200 for item URL: https://[REDACTED].suitetalk.api.netsuite.com/services/rest/record/v1/account/133\n2025-07-13 20:27:44 INFO Received HTTP 200 for item URL: https://[REDACTED].suitetalk.api.netsuite.com/services/rest/record/v1/account/138\n2025-07-13 20:27:44 INFO Received HTTP 200 for item URL: https://[REDACTED].suitetalk.api.netsuite.com/services/rest/record/v1/account/130\n2025-07-13 20:27:45 INFO Received HTTP 200 for item URL: https://[REDACTED].suitetalk.api.netsuite.com/services/rest/record/v1/account/121\n2025-07-13 20:27:45 INFO Received HTTP 200 for item URL: https://[REDACTED].suitetalk.api.netsuite.com/services/rest/record/v1/account/134\n2025-07-13 20:27:45 INFO Received HTTP 200 for item URL: https://[REDACTED].suitetalk.api.netsuite.com/services/rest/record/v1/account/657\n2025-07-13 20:27:45 INFO Received HTTP 200 for item URL: https://[REDACTED].suitetalk.api.netsuite.com/services/rest/record/v1/account/128\n2025-07-13 20:27:46 INFO Received HTTP 200 for item URL: https://[REDACTED].suitetalk.api.netsuite.com/services/rest/record/v1/account/820\n2025-07-13 20:27:46 INFO Received HTTP 200 for item URL: https://[REDACTED].suitetalk.api.netsuite.com/services/rest/record/v1/account/818\n2025-07-13 20:27:46 INFO Received HTTP 200 for item URL: https://[REDACTED].suitetalk.api.netsuite.com/services/rest/record/v1/account/816\n2025-07-13 20:27:46 INFO Received HTTP 200 for item URL: https://[REDACTED].suitetalk.api.netsuite.com/services/rest/record/v1/account/748\n2025-07-13 20:27:47 INFO Received HTTP 200 for item URL: https://[REDACTED].suitetalk.api.netsuite.com/services/rest/record/v1/account/540\n2025-07-13 20:27:47 INFO Received HTTP 200 for item URL: https://[REDACTED].suitetalk.api.netsuite.com/services/rest/record/v1/account/772\n2025-07-13 20:27:47 INFO Received HTTP 200 for item URL: https://[REDACTED].suitetalk.api.netsuite.com/services/rest/record/v1/account/705\n2025-07-13 20:27:47 INFO Received HTTP 200 for item URL: https://[REDACTED].suitetalk.api.netsuite.com/services/rest/record/v1/account/710\n2025-07-13 20:27:48 INFO Received HTTP 200 for item URL: https://[REDACTED].suitetalk.api.netsuite.com/services/rest/record/v1/account/716\n2025-07-13 20:27:48 INFO Received HTTP 200 for item URL: https://[REDACTED].suitetalk.api.netsuite.com/services/rest/record/v1/account/761\n2025-07-13 20:27:48 INFO Received HTTP 200 for item URL: https://[REDACTED].suitetalk.api.netsuite.com/services/rest/record/v1/account/768\n2025-07-13 20:27:48 INFO Received HTTP 200 for item URL: https://[REDACTED].suitetalk.api.netsuite.com/services/rest/record/v1/account/780\n2025-07-13 20:27:49 INFO Received HTTP 200 for item URL: https://[REDACTED].suitetalk.api.netsuite.com/services/rest/record/v1/account/828\n2025-07-13 20:27:49 INFO Received HTTP 200 for item URL: https://[REDACTED].suitetalk.api.netsuite.com/services/rest/record/v1/account/827\n2025-07-13 20:27:49 INFO Received HTTP 200 for item URL: https://[REDACTED].suitetalk.api.netsuite.com/services/rest/record/v1/account/709\n2025-07-13 20:27:49 INFO Received HTTP 200 for item URL: https://[REDACTED].suitetalk.api.netsuite.com/services/rest/record/v1/account/760\n2025-07-13 20:27:50 INFO Received HTTP 200 for item URL: https://[REDACTED].suitetalk.api.netsuite.com/services/rest/record/v1/account/779\n2025-07-13 20:27:50 INFO Received HTTP 200 for item URL: https://[REDACTED].suitetalk.api.netsuite.com/services/rest/record/v1/account/700\n2025-07-13 20:27:50 INFO Received HTTP 200 for item URL: https://[REDACTED].suitetalk.api.netsuite.com/services/rest/record/v1/account/826\n2025-07-13 20:27:50 INFO Received HTTP 200 for item URL: https://[REDACTED].suitetalk.api.netsuite.com/services/rest/record/v1/account/755\n2025-07-13 20:27:51 INFO Received HTTP 200 for item URL: https://[REDACTED].suitetalk.api.netsuite.com/services/rest/record/v1/account/650\n2025-07-13 20:27:51 INFO Completed GET NetSuite page details\n2025-07-13 20:27:54 INFO Wrote 491 records of account to abfss://bronze@qydatalake.dfs.core.windows.net/netsuite/account/\n2025-07-13 20:27:55 INFO Logged 599 entries for account\n"
     ]
    }
   ],
   "source": [
    "from concurrent.futures import ThreadPoolExecutor, as_completed\n",
    "\n",
    "# === MAIN PIPELINE ===\n",
    "if __name__ == \"__main__\":\n",
    "    # Prepare NetSuite connection\n",
    "    base_url, oauth, headers, params = set_netsuite_connection(account_id=ACCOUNT_ID, version=VERSION, realm=REALM)\n",
    "\n",
    "    # Entities we want to load\n",
    "    entities = [\"account\", \"subsidiary\", \"department\"]\n",
    "\n",
    "    # Parallel HTTP fetch\n",
    "    with ThreadPoolExecutor(max_workers=len(entities)) as pool:\n",
    "        futures = {\n",
    "            pool.submit(fetch_entity_data, entity, base_url, oauth, headers, params): entity\n",
    "            for entity in entities\n",
    "        }\n",
    "\n",
    "        for future in as_completed(futures): # futures is a Dict[Future, str]\n",
    "            # entity = futures[future]\n",
    "            entity, data, logs = future.result()\n",
    "\n",
    "            # Write to Lakehouse\n",
    "            write_to_lakehouse(data=data, partition_number=1, medal=\"bronze\", subfolder_path=\"netsuite\", entity=entity)\n",
    "\n",
    "            # Log progress\n",
    "            log_progress(log_records=logs, medal=\"bronze\", subfolder_path=\"netsuite\", entity=entity)\n",
    "\n",
    "# --- End of netsuite_loader.py ---"
   ]
  },
  {
   "cell_type": "code",
   "execution_count": 0,
   "metadata": {
    "application/vnd.databricks.v1+cell": {
     "cellMetadata": {
      "byteLimit": 2048000,
      "rowLimit": 10000
     },
     "inputWidgets": {},
     "nuid": "812e36dd-dae8-41d6-9034-246a813cbe6c",
     "showTitle": false,
     "tableResultSettingsMap": {},
     "title": ""
    }
   },
   "outputs": [],
   "source": []
  }
 ],
 "metadata": {
  "application/vnd.databricks.v1+notebook": {
   "computePreferences": null,
   "dashboards": [],
   "environmentMetadata": null,
   "inputWidgetPreferences": null,
   "language": "python",
   "notebookMetadata": {
    "pythonIndentUnit": 4
   },
   "notebookName": "load_netsuite_bronze",
   "widgets": {}
  },
  "dependencies": {
   "lakehouse": {
    "default_lakehouse": "889fd91e-de83-4fb6-b1e0-632befda4c9e",
    "default_lakehouse_name": "qylakehouse",
    "default_lakehouse_workspace_id": "0679a537-5393-4d69-9dfc-4c327dba5458",
    "known_lakehouses": [
     {
      "id": "889fd91e-de83-4fb6-b1e0-632befda4c9e"
     }
    ]
   }
  },
  "kernel_info": {
   "name": "synapse_pyspark"
  },
  "kernelspec": {
   "display_name": "synapse_pyspark",
   "name": "synapse_pyspark"
  },
  "language_info": {
   "name": "python"
  },
  "microsoft": {
   "language": "python",
   "language_group": "synapse_pyspark",
   "ms_spell_check": {
    "ms_spell_check_language": "en"
   }
  },
  "nteract": {
   "version": "nteract-front-end@1.0.0"
  },
  "spark_compute": {
   "compute_id": "/trident/default",
   "session_options": {
    "conf": {
     "spark.synapse.nbs.session.timeout": "1200000"
    }
   }
  },
  "synapse_widget": {
   "state": {},
   "version": "0.1"
  }
 },
 "nbformat": 4,
 "nbformat_minor": 0
}